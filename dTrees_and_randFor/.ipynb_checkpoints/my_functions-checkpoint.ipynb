{
 "metadata": {
  "name": "",
  "signature": "sha256:edcba001f94605e5e2aa10dcb0439454f84f1a6ffddeaa9595645388a1a9d36d"
 },
 "nbformat": 3,
 "nbformat_minor": 0,
 "worksheets": [
  {
   "cells": [
    {
     "cell_type": "code",
     "collapsed": false,
     "input": [
      "import function_tree_forest\n",
      "\n",
      "import json\n",
      "import numpy as np\n",
      "import pandas as pd\n",
      "import os\n",
      "import re\n",
      "import nltk\n",
      "from nltk.corpus import stopwords\n",
      "import random\n",
      "from nltk.tokenize import RegexpTokenizer\n",
      "import matplotlib.pyplot as plt\n",
      "from sklearn.feature_extraction.text import TfidfVectorizer\n",
      "from sklearn.naive_bayes import MultinomialNB\n",
      "\n",
      "from sklearn.tree import DecisionTreeClassifier\n",
      "from sklearn import cross_validation\n",
      "from sklearn.cross_validation import cross_val_score\n",
      "from sklearn.ensemble import RandomForestClassifier"
     ],
     "language": "python",
     "metadata": {},
     "outputs": [],
     "prompt_number": 4
    },
    {
     "cell_type": "heading",
     "level": 1,
     "metadata": {},
     "source": [
      "Split Train-Test Samples into two Files"
     ]
    },
    {
     "cell_type": "code",
     "collapsed": false,
     "input": [
      "# data_path=\"../myData/\"\n",
      "# test_path=\"../myData/test/\"\n",
      "# train_path=\"../myData/train/\"\n",
      "\n",
      "# inputFName=data_path+\"kaggle.json\"\n",
      "# inJSON = json.load(open(inputFName, \"r\"))\n",
      "# len(inJSON) \n",
      "\n",
      "# inputFName=data_path+\"kaggle.json\" \n",
      "# outputFName=\"kaggle.json\" \n",
      "# split_train_test(inputFName,outputFName,train_path,test_path,shuffle=False)\n",
      "\n",
      "# inputFName=test_path+\"kaggle.json\" \n",
      "# inJSON = json.load(open(inputFName, \"r\"))\n",
      "# print(len(inJSON))\n",
      "# inputFName=train_path+\"kaggle.json\" \n",
      "# inJSON = json.load(open(inputFName, \"r\"))\n",
      "# print(len(inJSON))\n",
      "\n",
      "# train_len=len(inJSON)\n"
     ],
     "language": "python",
     "metadata": {},
     "outputs": [],
     "prompt_number": 7
    },
    {
     "cell_type": "heading",
     "level": 1,
     "metadata": {},
     "source": [
      "Create Feature Files for Test/Train"
     ]
    },
    {
     "cell_type": "code",
     "collapsed": false,
     "input": [
      "# test_path=\"../myData/test/\"\n",
      "# train_path=\"../myData/train/\"\n",
      "\n",
      "# # create files for all data in train and test set, ignore validation set \n",
      "\n",
      "# my_path_keys=['train','test'] # should be in this order\n",
      "# my_paths=[train_path,test_path]\n",
      "# create_Train_Test_files(my_paths,my_path_keys)"
     ],
     "language": "python",
     "metadata": {},
     "outputs": [],
     "prompt_number": 8
    },
    {
     "cell_type": "heading",
     "level": 1,
     "metadata": {},
     "source": [
      "PATHS"
     ]
    },
    {
     "cell_type": "code",
     "collapsed": false,
     "input": [
      "test_path=\"../myData/test/\"\n",
      "train_path=\"../myData/train/\"\n",
      "cross_train_path=\"../myData/train/cross_train/\"\n",
      "cross_test_path=\"../myData/train/cross_test/\"\n"
     ],
     "language": "python",
     "metadata": {},
     "outputs": [],
     "prompt_number": 5
    },
    {
     "cell_type": "heading",
     "level": 1,
     "metadata": {},
     "source": [
      "Create Validation set"
     ]
    },
    {
     "cell_type": "heading",
     "level": 2,
     "metadata": {},
     "source": [
      "copy relevant files to cross-validation folders"
     ]
    },
    {
     "cell_type": "code",
     "collapsed": false,
     "input": [
      "# # copy relevant files to cross-validation folders\n",
      "# inputFNames=[\"puncCount.json\",\"avgWordLength.json\",\"isFirstPerson.json\",\"posTag.json\",\"stemming.json\",\"kaggle.json\"]\n",
      "\n",
      "# for i,inputFName in enumerate(inputFNames):\n",
      "#     inJSON= json.load(open(train_path+inputFName, \"r\"))\n",
      "#     outputFName=cross_train_path+inputFName\n",
      "#     outJSON=open(outputFName, \"w\")\n",
      "#     json.dump(inJSON, outJSON)\n",
      "#     outJSON.close()\n",
      "#     outputFName=cross_test_path+inputFName\n",
      "#     outJSON=open(outputFName, \"w\")\n",
      "#     json.dump(inJSON, outJSON)\n",
      "#     outJSON.close()\n",
      "#len(inJSON)\n"
     ],
     "language": "python",
     "metadata": {},
     "outputs": [],
     "prompt_number": 6
    },
    {
     "cell_type": "heading",
     "level": 2,
     "metadata": {},
     "source": [
      "Cross_validation"
     ]
    },
    {
     "cell_type": "heading",
     "level": 2,
     "metadata": {},
     "source": [
      "Without Words"
     ]
    },
    {
     "cell_type": "code",
     "collapsed": false,
     "input": [
      "total_len=len(json.load(open(train_path+\"isFirstPerson.json\", \"r\")))"
     ],
     "language": "python",
     "metadata": {},
     "outputs": [
      {
       "ename": "IOError",
       "evalue": "[Errno 2] No such file or directory: '../myData/train/isFirstPerson.json'",
       "output_type": "pyerr",
       "traceback": [
        "\u001b[1;31m---------------------------------------------------------------------------\u001b[0m\n\u001b[1;31mIOError\u001b[0m                                   Traceback (most recent call last)",
        "\u001b[1;32m<ipython-input-7-815e8ffc9909>\u001b[0m in \u001b[0;36m<module>\u001b[1;34m()\u001b[0m\n\u001b[1;32m----> 1\u001b[1;33m \u001b[0mtotal_len\u001b[0m\u001b[1;33m=\u001b[0m\u001b[0mlen\u001b[0m\u001b[1;33m(\u001b[0m\u001b[0mjson\u001b[0m\u001b[1;33m.\u001b[0m\u001b[0mload\u001b[0m\u001b[1;33m(\u001b[0m\u001b[0mopen\u001b[0m\u001b[1;33m(\u001b[0m\u001b[0mtrain_path\u001b[0m\u001b[1;33m+\u001b[0m\u001b[1;34m\"isFirstPerson.json\"\u001b[0m\u001b[1;33m,\u001b[0m \u001b[1;34m\"r\"\u001b[0m\u001b[1;33m)\u001b[0m\u001b[1;33m)\u001b[0m\u001b[1;33m)\u001b[0m\u001b[1;33m\u001b[0m\u001b[0m\n\u001b[0m",
        "\u001b[1;31mIOError\u001b[0m: [Errno 2] No such file or directory: '../myData/train/isFirstPerson.json'"
       ]
      }
     ],
     "prompt_number": 7
    },
    {
     "cell_type": "code",
     "collapsed": false,
     "input": [
      "my_min=2\n",
      "my_max=600\n",
      "hyper_range=np.arange(my_min,my_max,5)"
     ],
     "language": "python",
     "metadata": {},
     "outputs": [],
     "prompt_number": 12
    },
    {
     "cell_type": "code",
     "collapsed": false,
     "input": [
      "rs=cross_validation.ShuffleSplit(total_len, n_iter=5, test_size=0.20)\n",
      "clf = DecisionTreeClassifier(random_state=0)\n",
      "hyper_check={}\n",
      "my_iter=0\n",
      "for train_index, test_index in rs:\n",
      "    my_iter+=1\n",
      "    myindex=(train_index,test_index )\n",
      "    my_path_keys=['train','test'] # should be in this order\n",
      "    my_paths=[cross_train_path,cross_test_path]\n",
      "    results=create_Train_Test_data(my_paths,my_path_keys,myindex=myindex,addWords_bool=False)\n",
      "    results.keys(),results['test'].shape,results['train'].shape\n",
      "\n",
      "    results['test'].shape,results['train'].shape\n",
      "    df_train=results['train']\n",
      "    df_test=results['test']\n",
      "    df_dictionary= transform_csv(df_train, target_col='rating')\n",
      "    (X_train, y_train)=transform_sklearn_dictionary(df_dictionary)\n",
      "\n",
      "    df_dictionary= transform_csv(df_test, target_col='rating')\n",
      "    (X_test, y_test)=transform_sklearn_dictionary(df_dictionary)\n",
      "    validation_errors=[]\n",
      "    \n",
      "    for my_hyper in hyper_range:\n",
      "        clf.set_params(min_samples_split=my_hyper)\n",
      "        clf = clf.fit(X_train, y_train)\n",
      "        validation_errors.append(clf.score(X_test,y_test))\n",
      "        print (clf.score(X_test,y_test),my_hyper )\n",
      "        \n",
      "    hyper_check['my_iter'+str(my_iter)]=validation_errors\n",
      "hyper_check['hyper_range']=list(hyper_range)"
     ],
     "language": "python",
     "metadata": {},
     "outputs": [
      {
       "output_type": "stream",
       "stream": "stdout",
       "text": [
        "(0.58739837398373984, 2)\n",
        "(0.59010840108401086, 7)"
       ]
      },
      {
       "output_type": "stream",
       "stream": "stdout",
       "text": [
        "\n",
        "(0.59891598915989164, 12)"
       ]
      },
      {
       "output_type": "stream",
       "stream": "stdout",
       "text": [
        "\n",
        "(0.60772357723577231, 17)"
       ]
      },
      {
       "output_type": "stream",
       "stream": "stdout",
       "text": [
        "\n",
        "(0.62533875338753386, 22)"
       ]
      },
      {
       "output_type": "stream",
       "stream": "stdout",
       "text": [
        "\n",
        "(0.63008130081300817, 27)"
       ]
      },
      {
       "output_type": "stream",
       "stream": "stdout",
       "text": [
        "\n",
        "(0.63008130081300817, 32)"
       ]
      },
      {
       "output_type": "stream",
       "stream": "stdout",
       "text": [
        "\n",
        "(0.63211382113821135, 37)"
       ]
      },
      {
       "output_type": "stream",
       "stream": "stdout",
       "text": [
        "\n",
        "(0.64092140921409213, 42)"
       ]
      },
      {
       "output_type": "stream",
       "stream": "stdout",
       "text": [
        "\n",
        "(0.63956639566395668, 47)"
       ]
      },
      {
       "output_type": "stream",
       "stream": "stdout",
       "text": [
        "\n",
        "(0.6355013550135501, 52)"
       ]
      },
      {
       "output_type": "stream",
       "stream": "stdout",
       "text": [
        "\n",
        "(0.63821138211382111, 57)"
       ]
      },
      {
       "output_type": "stream",
       "stream": "stdout",
       "text": [
        "\n",
        "(0.6355013550135501, 62)"
       ]
      },
      {
       "output_type": "stream",
       "stream": "stdout",
       "text": [
        "\n",
        "(0.63008130081300817, 67)"
       ]
      },
      {
       "output_type": "stream",
       "stream": "stdout",
       "text": [
        "\n",
        "(0.62804878048780488, 72)"
       ]
      },
      {
       "output_type": "stream",
       "stream": "stdout",
       "text": [
        "\n",
        "(0.62669376693766943, 77)"
       ]
      },
      {
       "output_type": "stream",
       "stream": "stdout",
       "text": [
        "\n",
        "(0.62804878048780488, 82)"
       ]
      },
      {
       "output_type": "stream",
       "stream": "stdout",
       "text": [
        "\n",
        "(0.62601626016260159, 87)"
       ]
      },
      {
       "output_type": "stream",
       "stream": "stdout",
       "text": [
        "\n",
        "(0.62330623306233057, 92)"
       ]
      },
      {
       "output_type": "stream",
       "stream": "stdout",
       "text": [
        "\n",
        "(0.62398373983739841, 97)"
       ]
      },
      {
       "output_type": "stream",
       "stream": "stdout",
       "text": [
        "\n",
        "(0.62127371273712739, 102)"
       ]
      },
      {
       "output_type": "stream",
       "stream": "stdout",
       "text": [
        "\n",
        "(0.61856368563685638, 107)"
       ]
      },
      {
       "output_type": "stream",
       "stream": "stdout",
       "text": [
        "\n",
        "(0.62601626016260159, 112)"
       ]
      },
      {
       "output_type": "stream",
       "stream": "stdout",
       "text": [
        "\n",
        "(0.62601626016260159, 117)"
       ]
      },
      {
       "output_type": "stream",
       "stream": "stdout",
       "text": [
        "\n",
        "(0.62330623306233057, 122)"
       ]
      },
      {
       "output_type": "stream",
       "stream": "stdout",
       "text": [
        "\n",
        "(0.62533875338753386, 127)"
       ]
      },
      {
       "output_type": "stream",
       "stream": "stdout",
       "text": [
        "\n",
        "(0.62195121951219512, 132)"
       ]
      },
      {
       "output_type": "stream",
       "stream": "stdout",
       "text": [
        "\n",
        "(0.61314363143631434, 137)"
       ]
      },
      {
       "output_type": "stream",
       "stream": "stdout",
       "text": [
        "\n",
        "(0.61314363143631434, 142)"
       ]
      },
      {
       "output_type": "stream",
       "stream": "stdout",
       "text": [
        "\n",
        "(0.61788617886178865, 147)"
       ]
      },
      {
       "output_type": "stream",
       "stream": "stdout",
       "text": [
        "\n",
        "(0.61788617886178865, 152)"
       ]
      },
      {
       "output_type": "stream",
       "stream": "stdout",
       "text": [
        "\n",
        "(0.61788617886178865, 157)"
       ]
      },
      {
       "output_type": "stream",
       "stream": "stdout",
       "text": [
        "\n",
        "(0.61788617886178865, 162)"
       ]
      },
      {
       "output_type": "stream",
       "stream": "stdout",
       "text": [
        "\n",
        "(0.61314363143631434, 167)"
       ]
      },
      {
       "output_type": "stream",
       "stream": "stdout",
       "text": [
        "\n",
        "(0.6050135501355014, 172)"
       ]
      },
      {
       "output_type": "stream",
       "stream": "stdout",
       "text": [
        "\n",
        "(0.6050135501355014, 177)"
       ]
      },
      {
       "output_type": "stream",
       "stream": "stdout",
       "text": [
        "\n",
        "(0.60230352303523038, 182)"
       ]
      },
      {
       "output_type": "stream",
       "stream": "stdout",
       "text": [
        "\n",
        "(0.60636856368563685, 187)"
       ]
      },
      {
       "output_type": "stream",
       "stream": "stdout",
       "text": [
        "\n",
        "(0.60636856368563685, 192)"
       ]
      },
      {
       "output_type": "stream",
       "stream": "stdout",
       "text": [
        "\n",
        "(0.60298102981029811, 197)"
       ]
      },
      {
       "output_type": "stream",
       "stream": "stdout",
       "text": [
        "\n",
        "(0.59756097560975607, 202)"
       ]
      },
      {
       "output_type": "stream",
       "stream": "stdout",
       "text": [
        "\n",
        "(0.59214092140921404, 207)"
       ]
      },
      {
       "output_type": "stream",
       "stream": "stdout",
       "text": [
        "\n",
        "(0.58468834688346882, 212)"
       ]
      },
      {
       "output_type": "stream",
       "stream": "stdout",
       "text": [
        "\n",
        "(0.58468834688346882, 217)"
       ]
      },
      {
       "output_type": "stream",
       "stream": "stdout",
       "text": [
        "\n",
        "(0.58468834688346882, 222)"
       ]
      },
      {
       "output_type": "stream",
       "stream": "stdout",
       "text": [
        "\n",
        "(0.58333333333333337, 227)"
       ]
      },
      {
       "output_type": "stream",
       "stream": "stdout",
       "text": [
        "\n",
        "(0.58333333333333337, 232)"
       ]
      },
      {
       "output_type": "stream",
       "stream": "stdout",
       "text": [
        "\n",
        "(0.58333333333333337, 237)"
       ]
      },
      {
       "output_type": "stream",
       "stream": "stdout",
       "text": [
        "\n",
        "(0.58130081300813008, 242)"
       ]
      },
      {
       "output_type": "stream",
       "stream": "stdout",
       "text": [
        "\n",
        "(0.58130081300813008, 247)"
       ]
      },
      {
       "output_type": "stream",
       "stream": "stdout",
       "text": [
        "\n",
        "(0.57994579945799463, 252)"
       ]
      },
      {
       "output_type": "stream",
       "stream": "stdout",
       "text": [
        "\n",
        "(0.57994579945799463, 257)"
       ]
      },
      {
       "output_type": "stream",
       "stream": "stdout",
       "text": [
        "\n",
        "(0.57994579945799463, 262)"
       ]
      },
      {
       "output_type": "stream",
       "stream": "stdout",
       "text": [
        "\n",
        "(0.57994579945799463, 267)"
       ]
      },
      {
       "output_type": "stream",
       "stream": "stdout",
       "text": [
        "\n",
        "(0.57723577235772361, 272)"
       ]
      },
      {
       "output_type": "stream",
       "stream": "stdout",
       "text": [
        "\n",
        "(0.57655826558265577, 277)"
       ]
      },
      {
       "output_type": "stream",
       "stream": "stdout",
       "text": [
        "\n",
        "(0.57655826558265577, 282)"
       ]
      },
      {
       "output_type": "stream",
       "stream": "stdout",
       "text": [
        "\n",
        "(0.57655826558265577, 287)"
       ]
      },
      {
       "output_type": "stream",
       "stream": "stdout",
       "text": [
        "\n",
        "(0.57588075880758804, 292)"
       ]
      },
      {
       "output_type": "stream",
       "stream": "stdout",
       "text": [
        "\n",
        "(0.57588075880758804, 297)"
       ]
      },
      {
       "output_type": "stream",
       "stream": "stdout",
       "text": [
        "\n",
        "(0.57113821138211385, 302)"
       ]
      },
      {
       "output_type": "stream",
       "stream": "stdout",
       "text": [
        "\n",
        "(0.56436314363143636, 307)"
       ]
      },
      {
       "output_type": "stream",
       "stream": "stdout",
       "text": [
        "\n",
        "(0.55894308943089432, 312)"
       ]
      },
      {
       "output_type": "stream",
       "stream": "stdout",
       "text": [
        "\n",
        "(0.55894308943089432, 317)"
       ]
      },
      {
       "output_type": "stream",
       "stream": "stdout",
       "text": [
        "\n",
        "(0.55894308943089432, 322)"
       ]
      },
      {
       "output_type": "stream",
       "stream": "stdout",
       "text": [
        "\n",
        "(0.55894308943089432, 327)"
       ]
      },
      {
       "output_type": "stream",
       "stream": "stdout",
       "text": [
        "\n",
        "(0.5467479674796748, 332)"
       ]
      },
      {
       "output_type": "stream",
       "stream": "stdout",
       "text": [
        "\n",
        "(0.54607046070460707, 337)"
       ]
      },
      {
       "output_type": "stream",
       "stream": "stdout",
       "text": [
        "\n",
        "(0.54607046070460707, 342)"
       ]
      },
      {
       "output_type": "stream",
       "stream": "stdout",
       "text": [
        "\n",
        "(0.54607046070460707, 347)"
       ]
      },
      {
       "output_type": "stream",
       "stream": "stdout",
       "text": [
        "\n",
        "(0.54607046070460707, 352)"
       ]
      },
      {
       "output_type": "stream",
       "stream": "stdout",
       "text": [
        "\n",
        "(0.54607046070460707, 357)"
       ]
      },
      {
       "output_type": "stream",
       "stream": "stdout",
       "text": [
        "\n",
        "(0.53658536585365857, 362)\n",
        "(0.53658536585365857, 367)"
       ]
      },
      {
       "output_type": "stream",
       "stream": "stdout",
       "text": [
        "\n",
        "(0.53387533875338755, 372)\n",
        "(0.52777777777777779, 377)"
       ]
      },
      {
       "output_type": "stream",
       "stream": "stdout",
       "text": [
        "\n",
        "(0.52506775067750677, 382)\n",
        "(0.52506775067750677, 387)"
       ]
      },
      {
       "output_type": "stream",
       "stream": "stdout",
       "text": [
        "\n",
        "(0.52506775067750677, 392)\n",
        "(0.52506775067750677, 397)"
       ]
      },
      {
       "output_type": "stream",
       "stream": "stdout",
       "text": [
        "\n",
        "(0.52506775067750677, 402)\n",
        "(0.52506775067750677, 407)"
       ]
      },
      {
       "output_type": "stream",
       "stream": "stdout",
       "text": [
        "\n",
        "(0.52506775067750677, 412)\n",
        "(0.52506775067750677, 417)"
       ]
      },
      {
       "output_type": "stream",
       "stream": "stdout",
       "text": [
        "\n",
        "(0.52506775067750677, 422)\n",
        "(0.5210027100271003, 427)"
       ]
      },
      {
       "output_type": "stream",
       "stream": "stdout",
       "text": [
        "\n",
        "(0.5210027100271003, 432)\n",
        "(0.5210027100271003, 437)"
       ]
      },
      {
       "output_type": "stream",
       "stream": "stdout",
       "text": [
        "\n",
        "(0.5210027100271003, 442)"
       ]
      },
      {
       "output_type": "stream",
       "stream": "stdout",
       "text": [
        "\n",
        "(0.51287262872628725, 447)"
       ]
      },
      {
       "output_type": "stream",
       "stream": "stdout",
       "text": [
        "\n",
        "(0.51287262872628725, 452)"
       ]
      },
      {
       "output_type": "stream",
       "stream": "stdout",
       "text": [
        "\n",
        "(0.50135501355013545, 457)"
       ]
      },
      {
       "output_type": "stream",
       "stream": "stdout",
       "text": [
        "\n",
        "(0.50135501355013545, 462)\n",
        "(0.50135501355013545, 467)"
       ]
      },
      {
       "output_type": "stream",
       "stream": "stdout",
       "text": [
        "\n",
        "(0.50135501355013545, 472)\n",
        "(0.50135501355013545, 477)"
       ]
      },
      {
       "output_type": "stream",
       "stream": "stdout",
       "text": [
        "\n",
        "(0.50135501355013545, 482)\n",
        "(0.50135501355013545, 487)"
       ]
      },
      {
       "output_type": "stream",
       "stream": "stdout",
       "text": [
        "\n",
        "(0.50135501355013545, 492)\n",
        "(0.50135501355013545, 497)"
       ]
      },
      {
       "output_type": "stream",
       "stream": "stdout",
       "text": [
        "\n",
        "(0.48780487804878048, 502)\n",
        "(0.48780487804878048, 507)"
       ]
      },
      {
       "output_type": "stream",
       "stream": "stdout",
       "text": [
        "\n",
        "(0.47289972899728999, 512)\n",
        "(0.47289972899728999, 517)"
       ]
      },
      {
       "output_type": "stream",
       "stream": "stdout",
       "text": [
        "\n",
        "(0.47289972899728999, 522)\n",
        "(0.47289972899728999, 527)"
       ]
      },
      {
       "output_type": "stream",
       "stream": "stdout",
       "text": [
        "\n",
        "(0.4627371273712737, 532)\n",
        "(0.4627371273712737, 537)"
       ]
      },
      {
       "output_type": "stream",
       "stream": "stdout",
       "text": [
        "\n",
        "(0.4627371273712737, 542)\n",
        "(0.4627371273712737, 547)"
       ]
      },
      {
       "output_type": "stream",
       "stream": "stdout",
       "text": [
        "\n",
        "(0.4627371273712737, 552)\n",
        "(0.4627371273712737, 557)"
       ]
      },
      {
       "output_type": "stream",
       "stream": "stdout",
       "text": [
        "\n",
        "(0.44173441734417346, 562)\n",
        "(0.43970189701897017, 567)"
       ]
      },
      {
       "output_type": "stream",
       "stream": "stdout",
       "text": [
        "\n",
        "(0.43970189701897017, 572)\n",
        "(0.43970189701897017, 577)"
       ]
      },
      {
       "output_type": "stream",
       "stream": "stdout",
       "text": [
        "\n",
        "(0.43970189701897017, 582)\n",
        "(0.43360433604336046, 587)"
       ]
      },
      {
       "output_type": "stream",
       "stream": "stdout",
       "text": [
        "\n",
        "(0.43360433604336046, 592)\n",
        "(0.43360433604336046, 597)"
       ]
      },
      {
       "output_type": "stream",
       "stream": "stdout",
       "text": [
        "\n",
        "(0.54878048780487809, 2)"
       ]
      },
      {
       "output_type": "stream",
       "stream": "stdout",
       "text": [
        "\n",
        "(0.55081300813008127, 7)"
       ]
      },
      {
       "output_type": "stream",
       "stream": "stdout",
       "text": [
        "\n",
        "(0.57588075880758804, 12)"
       ]
      },
      {
       "output_type": "stream",
       "stream": "stdout",
       "text": [
        "\n",
        "(0.57655826558265577, 17)"
       ]
      },
      {
       "output_type": "stream",
       "stream": "stdout",
       "text": [
        "\n",
        "(0.5934959349593496, 22)"
       ]
      },
      {
       "output_type": "stream",
       "stream": "stdout",
       "text": [
        "\n",
        "(0.61856368563685638, 27)"
       ]
      },
      {
       "output_type": "stream",
       "stream": "stdout",
       "text": [
        "\n",
        "(0.63008130081300817, 32)"
       ]
      },
      {
       "output_type": "stream",
       "stream": "stdout",
       "text": [
        "\n",
        "(0.6307588075880759, 37)"
       ]
      },
      {
       "output_type": "stream",
       "stream": "stdout",
       "text": [
        "\n",
        "(0.63008130081300817, 42)"
       ]
      },
      {
       "output_type": "stream",
       "stream": "stdout",
       "text": [
        "\n",
        "(0.64701897018970189, 47)"
       ]
      },
      {
       "output_type": "stream",
       "stream": "stdout",
       "text": [
        "\n",
        "(0.63617886178861793, 52)"
       ]
      },
      {
       "output_type": "stream",
       "stream": "stdout",
       "text": [
        "\n",
        "(0.64227642276422769, 57)"
       ]
      },
      {
       "output_type": "stream",
       "stream": "stdout",
       "text": [
        "\n",
        "(0.64430894308943087, 62)"
       ]
      },
      {
       "output_type": "stream",
       "stream": "stdout",
       "text": [
        "\n",
        "(0.65582655826558267, 67)"
       ]
      },
      {
       "output_type": "stream",
       "stream": "stdout",
       "text": [
        "\n",
        "(0.65311653116531165, 72)"
       ]
      },
      {
       "output_type": "stream",
       "stream": "stdout",
       "text": [
        "\n",
        "(0.65447154471544711, 77)"
       ]
      },
      {
       "output_type": "stream",
       "stream": "stdout",
       "text": [
        "\n",
        "(0.65040650406504064, 82)"
       ]
      },
      {
       "output_type": "stream",
       "stream": "stdout",
       "text": [
        "\n",
        "(0.64769647696476962, 87)"
       ]
      },
      {
       "output_type": "stream",
       "stream": "stdout",
       "text": [
        "\n",
        "(0.6402439024390244, 92)"
       ]
      },
      {
       "output_type": "stream",
       "stream": "stdout",
       "text": [
        "\n",
        "(0.64092140921409213, 97)"
       ]
      },
      {
       "output_type": "stream",
       "stream": "stdout",
       "text": [
        "\n",
        "(0.63956639566395668, 102)"
       ]
      },
      {
       "output_type": "stream",
       "stream": "stdout",
       "text": [
        "\n",
        "(0.6355013550135501, 107)"
       ]
      },
      {
       "output_type": "stream",
       "stream": "stdout",
       "text": [
        "\n",
        "(0.63821138211382111, 112)"
       ]
      },
      {
       "output_type": "stream",
       "stream": "stdout",
       "text": [
        "\n",
        "(0.6402439024390244, 117)"
       ]
      },
      {
       "output_type": "stream",
       "stream": "stdout",
       "text": [
        "\n",
        "(0.63617886178861793, 122)"
       ]
      },
      {
       "output_type": "stream",
       "stream": "stdout",
       "text": [
        "\n",
        "(0.62601626016260159, 127)"
       ]
      },
      {
       "output_type": "stream",
       "stream": "stdout",
       "text": [
        "\n",
        "(0.6307588075880759, 132)"
       ]
      },
      {
       "output_type": "stream",
       "stream": "stdout",
       "text": [
        "\n",
        "(0.63143631436314362, 137)"
       ]
      },
      {
       "output_type": "stream",
       "stream": "stdout",
       "text": [
        "\n",
        "(0.62872628726287261, 142)"
       ]
      },
      {
       "output_type": "stream",
       "stream": "stdout",
       "text": [
        "\n",
        "(0.63143631436314362, 147)"
       ]
      },
      {
       "output_type": "stream",
       "stream": "stdout",
       "text": [
        "\n",
        "(0.6307588075880759, 152)"
       ]
      },
      {
       "output_type": "stream",
       "stream": "stdout",
       "text": [
        "\n",
        "(0.62601626016260159, 157)"
       ]
      },
      {
       "output_type": "stream",
       "stream": "stdout",
       "text": [
        "\n",
        "(0.62669376693766943, 162)"
       ]
      },
      {
       "output_type": "stream",
       "stream": "stdout",
       "text": [
        "\n",
        "(0.62669376693766943, 167)"
       ]
      },
      {
       "output_type": "stream",
       "stream": "stdout",
       "text": [
        "\n",
        "(0.62737127371273715, 172)"
       ]
      },
      {
       "output_type": "stream",
       "stream": "stdout",
       "text": [
        "\n",
        "(0.62804878048780488, 177)"
       ]
      },
      {
       "output_type": "stream",
       "stream": "stdout",
       "text": [
        "\n",
        "(0.62804878048780488, 182)"
       ]
      },
      {
       "output_type": "stream",
       "stream": "stdout",
       "text": [
        "\n",
        "(0.62330623306233057, 187)"
       ]
      },
      {
       "output_type": "stream",
       "stream": "stdout",
       "text": [
        "\n",
        "(0.61991869918699183, 192)"
       ]
      },
      {
       "output_type": "stream",
       "stream": "stdout",
       "text": [
        "\n",
        "(0.61991869918699183, 197)"
       ]
      },
      {
       "output_type": "stream",
       "stream": "stdout",
       "text": [
        "\n",
        "(0.61991869918699183, 202)"
       ]
      },
      {
       "output_type": "stream",
       "stream": "stdout",
       "text": [
        "\n",
        "(0.61991869918699183, 207)"
       ]
      },
      {
       "output_type": "stream",
       "stream": "stdout",
       "text": [
        "\n",
        "(0.61991869918699183, 212)"
       ]
      },
      {
       "output_type": "stream",
       "stream": "stdout",
       "text": [
        "\n",
        "(0.6144986449864499, 217)"
       ]
      },
      {
       "output_type": "stream",
       "stream": "stdout",
       "text": [
        "\n",
        "(0.6050135501355014, 222)"
       ]
      },
      {
       "output_type": "stream",
       "stream": "stdout",
       "text": [
        "\n",
        "(0.6050135501355014, 227)"
       ]
      },
      {
       "output_type": "stream",
       "stream": "stdout",
       "text": [
        "\n",
        "(0.6050135501355014, 232)"
       ]
      },
      {
       "output_type": "stream",
       "stream": "stdout",
       "text": [
        "\n",
        "(0.6050135501355014, 237)"
       ]
      },
      {
       "output_type": "stream",
       "stream": "stdout",
       "text": [
        "\n",
        "(0.59688346883468835, 242)"
       ]
      },
      {
       "output_type": "stream",
       "stream": "stdout",
       "text": [
        "\n",
        "(0.59688346883468835, 247)"
       ]
      },
      {
       "output_type": "stream",
       "stream": "stdout",
       "text": [
        "\n",
        "(0.59688346883468835, 252)"
       ]
      },
      {
       "output_type": "stream",
       "stream": "stdout",
       "text": [
        "\n",
        "(0.58672086720867211, 257)"
       ]
      },
      {
       "output_type": "stream",
       "stream": "stdout",
       "text": [
        "\n",
        "(0.58672086720867211, 262)"
       ]
      },
      {
       "output_type": "stream",
       "stream": "stdout",
       "text": [
        "\n",
        "(0.58672086720867211, 267)"
       ]
      },
      {
       "output_type": "stream",
       "stream": "stdout",
       "text": [
        "\n",
        "(0.57723577235772361, 272)"
       ]
      },
      {
       "output_type": "stream",
       "stream": "stdout",
       "text": [
        "\n",
        "(0.57723577235772361, 277)"
       ]
      },
      {
       "output_type": "stream",
       "stream": "stdout",
       "text": [
        "\n",
        "(0.57384823848238486, 282)"
       ]
      },
      {
       "output_type": "stream",
       "stream": "stdout",
       "text": [
        "\n",
        "(0.57384823848238486, 287)"
       ]
      },
      {
       "output_type": "stream",
       "stream": "stdout",
       "text": [
        "\n",
        "(0.57113821138211385, 292)"
       ]
      },
      {
       "output_type": "stream",
       "stream": "stdout",
       "text": [
        "\n",
        "(0.57113821138211385, 297)"
       ]
      },
      {
       "output_type": "stream",
       "stream": "stdout",
       "text": [
        "\n",
        "(0.55487804878048785, 302)"
       ]
      },
      {
       "output_type": "stream",
       "stream": "stdout",
       "text": [
        "\n",
        "(0.55487804878048785, 307)\n",
        "(0.55487804878048785, 312)"
       ]
      },
      {
       "output_type": "stream",
       "stream": "stdout",
       "text": [
        "\n",
        "(0.53590785907859073, 317)\n",
        "(0.53794037940379402, 322)"
       ]
      },
      {
       "output_type": "stream",
       "stream": "stdout",
       "text": [
        "\n",
        "(0.53794037940379402, 327)\n",
        "(0.53794037940379402, 332)"
       ]
      },
      {
       "output_type": "stream",
       "stream": "stdout",
       "text": [
        "\n",
        "(0.53387533875338755, 337)\n",
        "(0.53387533875338755, 342)"
       ]
      },
      {
       "output_type": "stream",
       "stream": "stdout",
       "text": [
        "\n",
        "(0.53387533875338755, 347)\n",
        "(0.53387533875338755, 352)"
       ]
      },
      {
       "output_type": "stream",
       "stream": "stdout",
       "text": [
        "\n",
        "(0.52506775067750677, 357)\n",
        "(0.52506775067750677, 362)"
       ]
      },
      {
       "output_type": "stream",
       "stream": "stdout",
       "text": [
        "\n",
        "(0.52506775067750677, 367)\n",
        "(0.52506775067750677, 372)"
       ]
      },
      {
       "output_type": "stream",
       "stream": "stdout",
       "text": [
        "\n",
        "(0.52506775067750677, 377)\n",
        "(0.52506775067750677, 382)"
       ]
      },
      {
       "output_type": "stream",
       "stream": "stdout",
       "text": [
        "\n",
        "(0.52506775067750677, 387)\n",
        "(0.52506775067750677, 392)"
       ]
      },
      {
       "output_type": "stream",
       "stream": "stdout",
       "text": [
        "\n",
        "(0.52506775067750677, 397)\n",
        "(0.52506775067750677, 402)"
       ]
      },
      {
       "output_type": "stream",
       "stream": "stdout",
       "text": [
        "\n",
        "(0.52506775067750677, 407)\n",
        "(0.52506775067750677, 412)"
       ]
      },
      {
       "output_type": "stream",
       "stream": "stdout",
       "text": [
        "\n",
        "(0.52506775067750677, 417)\n",
        "(0.52506775067750677, 422)"
       ]
      },
      {
       "output_type": "stream",
       "stream": "stdout",
       "text": [
        "\n",
        "(0.52506775067750677, 427)\n",
        "(0.52506775067750677, 432)"
       ]
      },
      {
       "output_type": "stream",
       "stream": "stdout",
       "text": [
        "\n",
        "(0.52506775067750677, 437)\n",
        "(0.52506775067750677, 442)"
       ]
      },
      {
       "output_type": "stream",
       "stream": "stdout",
       "text": [
        "\n",
        "(0.52506775067750677, 447)\n",
        "(0.52506775067750677, 452)"
       ]
      },
      {
       "output_type": "stream",
       "stream": "stdout",
       "text": [
        "\n",
        "(0.48577235772357724, 457)\n",
        "(0.47628726287262874, 462)"
       ]
      },
      {
       "output_type": "stream",
       "stream": "stdout",
       "text": [
        "\n",
        "(0.47628726287262874, 467)\n",
        "(0.47628726287262874, 472)"
       ]
      },
      {
       "output_type": "stream",
       "stream": "stdout",
       "text": [
        "\n",
        "(0.47628726287262874, 477)\n",
        "(0.47289972899728999, 482)"
       ]
      },
      {
       "output_type": "stream",
       "stream": "stdout",
       "text": [
        "\n",
        "(0.47289972899728999, 487)\n",
        "(0.47289972899728999, 492)"
       ]
      },
      {
       "output_type": "stream",
       "stream": "stdout",
       "text": [
        "\n",
        "(0.47289972899728999, 497)\n",
        "(0.47289972899728999, 502)"
       ]
      },
      {
       "output_type": "stream",
       "stream": "stdout",
       "text": [
        "\n",
        "(0.47289972899728999, 507)\n",
        "(0.46815718157181574, 512)"
       ]
      },
      {
       "output_type": "stream",
       "stream": "stdout",
       "text": [
        "\n",
        "(0.46815718157181574, 517)\n",
        "(0.46815718157181574, 522)"
       ]
      },
      {
       "output_type": "stream",
       "stream": "stdout",
       "text": [
        "\n",
        "(0.46815718157181574, 527)\n",
        "(0.46815718157181574, 532)"
       ]
      },
      {
       "output_type": "stream",
       "stream": "stdout",
       "text": [
        "\n",
        "(0.46815718157181574, 537)\n",
        "(0.45663956639566394, 542)"
       ]
      },
      {
       "output_type": "stream",
       "stream": "stdout",
       "text": [
        "\n",
        "(0.45663956639566394, 547)\n",
        "(0.45663956639566394, 552)"
       ]
      },
      {
       "output_type": "stream",
       "stream": "stdout",
       "text": [
        "\n",
        "(0.45663956639566394, 557)\n",
        "(0.45663956639566394, 562)"
       ]
      },
      {
       "output_type": "stream",
       "stream": "stdout",
       "text": [
        "\n",
        "(0.45663956639566394, 567)\n",
        "(0.45663956639566394, 572)"
       ]
      },
      {
       "output_type": "stream",
       "stream": "stdout",
       "text": [
        "\n",
        "(0.44579945799457993, 577)\n",
        "(0.4356368563685637, 582)"
       ]
      },
      {
       "output_type": "stream",
       "stream": "stdout",
       "text": [
        "\n",
        "(0.4356368563685637, 587)\n",
        "(0.4356368563685637, 592)"
       ]
      },
      {
       "output_type": "stream",
       "stream": "stdout",
       "text": [
        "\n",
        "(0.4356368563685637, 597)\n",
        "(0.57113821138211385, 2)"
       ]
      },
      {
       "output_type": "stream",
       "stream": "stdout",
       "text": [
        "\n",
        "(0.59417344173441733, 7)"
       ]
      },
      {
       "output_type": "stream",
       "stream": "stdout",
       "text": [
        "\n",
        "(0.58943089430894313, 12)"
       ]
      },
      {
       "output_type": "stream",
       "stream": "stdout",
       "text": [
        "\n",
        "(0.61111111111111116, 17)"
       ]
      },
      {
       "output_type": "stream",
       "stream": "stdout",
       "text": [
        "\n",
        "(0.60704607046070458, 22)"
       ]
      },
      {
       "output_type": "stream",
       "stream": "stdout",
       "text": [
        "\n",
        "(0.62262872628726285, 27)"
       ]
      },
      {
       "output_type": "stream",
       "stream": "stdout",
       "text": [
        "\n",
        "(0.62601626016260159, 32)"
       ]
      },
      {
       "output_type": "stream",
       "stream": "stdout",
       "text": [
        "\n",
        "(0.65108401084010836, 37)"
       ]
      },
      {
       "output_type": "stream",
       "stream": "stdout",
       "text": [
        "\n",
        "(0.65040650406504064, 42)"
       ]
      },
      {
       "output_type": "stream",
       "stream": "stdout",
       "text": [
        "\n",
        "(0.64769647696476962, 47)"
       ]
      },
      {
       "output_type": "stream",
       "stream": "stdout",
       "text": [
        "\n",
        "(0.64566395663956644, 52)"
       ]
      },
      {
       "output_type": "stream",
       "stream": "stdout",
       "text": [
        "\n",
        "(0.65514905149051494, 57)"
       ]
      },
      {
       "output_type": "stream",
       "stream": "stdout",
       "text": [
        "\n",
        "(0.66056910569105687, 62)"
       ]
      },
      {
       "output_type": "stream",
       "stream": "stdout",
       "text": [
        "\n",
        "(0.65379403794037938, 67)"
       ]
      },
      {
       "output_type": "stream",
       "stream": "stdout",
       "text": [
        "\n",
        "(0.64701897018970189, 72)"
       ]
      },
      {
       "output_type": "stream",
       "stream": "stdout",
       "text": [
        "\n",
        "(0.6517615176151762, 77)"
       ]
      },
      {
       "output_type": "stream",
       "stream": "stdout",
       "text": [
        "\n",
        "(0.6449864498644986, 82)"
       ]
      },
      {
       "output_type": "stream",
       "stream": "stdout",
       "text": [
        "\n",
        "(0.62872628726287261, 87)"
       ]
      },
      {
       "output_type": "stream",
       "stream": "stdout",
       "text": [
        "\n",
        "(0.62872628726287261, 92)"
       ]
      },
      {
       "output_type": "stream",
       "stream": "stdout",
       "text": [
        "\n",
        "(0.63346883468834692, 97)"
       ]
      },
      {
       "output_type": "stream",
       "stream": "stdout",
       "text": [
        "\n",
        "(0.6402439024390244, 102)"
       ]
      },
      {
       "output_type": "stream",
       "stream": "stdout",
       "text": [
        "\n",
        "(0.63888888888888884, 107)"
       ]
      },
      {
       "output_type": "stream",
       "stream": "stdout",
       "text": [
        "\n",
        "(0.63888888888888884, 112)"
       ]
      },
      {
       "output_type": "stream",
       "stream": "stdout",
       "text": [
        "\n",
        "(0.63482384823848237, 117)"
       ]
      },
      {
       "output_type": "stream",
       "stream": "stdout",
       "text": [
        "\n",
        "(0.63414634146341464, 122)"
       ]
      },
      {
       "output_type": "stream",
       "stream": "stdout",
       "text": [
        "\n",
        "(0.62669376693766943, 127)"
       ]
      },
      {
       "output_type": "stream",
       "stream": "stdout",
       "text": [
        "\n",
        "(0.63211382113821135, 132)"
       ]
      },
      {
       "output_type": "stream",
       "stream": "stdout",
       "text": [
        "\n",
        "(0.63685636856368566, 137)"
       ]
      },
      {
       "output_type": "stream",
       "stream": "stdout",
       "text": [
        "\n",
        "(0.63008130081300817, 142)"
       ]
      },
      {
       "output_type": "stream",
       "stream": "stdout",
       "text": [
        "\n",
        "(0.62330623306233057, 147)"
       ]
      },
      {
       "output_type": "stream",
       "stream": "stdout",
       "text": [
        "\n",
        "(0.61991869918699183, 152)"
       ]
      },
      {
       "output_type": "stream",
       "stream": "stdout",
       "text": [
        "\n",
        "(0.61856368563685638, 157)"
       ]
      },
      {
       "output_type": "stream",
       "stream": "stdout",
       "text": [
        "\n",
        "(0.62195121951219512, 162)"
       ]
      },
      {
       "output_type": "stream",
       "stream": "stdout",
       "text": [
        "\n",
        "(0.62669376693766943, 167)"
       ]
      },
      {
       "output_type": "stream",
       "stream": "stdout",
       "text": [
        "\n",
        "(0.62533875338753386, 172)"
       ]
      },
      {
       "output_type": "stream",
       "stream": "stdout",
       "text": [
        "\n",
        "(0.62262872628726285, 177)"
       ]
      },
      {
       "output_type": "stream",
       "stream": "stdout",
       "text": [
        "\n",
        "(0.62262872628726285, 182)"
       ]
      },
      {
       "output_type": "stream",
       "stream": "stdout",
       "text": [
        "\n",
        "(0.62127371273712739, 187)"
       ]
      },
      {
       "output_type": "stream",
       "stream": "stdout",
       "text": [
        "\n",
        "(0.6192411924119241, 192)"
       ]
      },
      {
       "output_type": "stream",
       "stream": "stdout",
       "text": [
        "\n",
        "(0.61314363143631434, 197)"
       ]
      },
      {
       "output_type": "stream",
       "stream": "stdout",
       "text": [
        "\n",
        "(0.61314363143631434, 202)"
       ]
      },
      {
       "output_type": "stream",
       "stream": "stdout",
       "text": [
        "\n",
        "(0.60772357723577231, 207)"
       ]
      },
      {
       "output_type": "stream",
       "stream": "stdout",
       "text": [
        "\n",
        "(0.60772357723577231, 212)"
       ]
      },
      {
       "output_type": "stream",
       "stream": "stdout",
       "text": [
        "\n",
        "(0.60094850948509482, 217)"
       ]
      },
      {
       "output_type": "stream",
       "stream": "stdout",
       "text": [
        "\n",
        "(0.60162601626016265, 222)"
       ]
      },
      {
       "output_type": "stream",
       "stream": "stdout",
       "text": [
        "\n",
        "(0.60094850948509482, 227)"
       ]
      },
      {
       "output_type": "stream",
       "stream": "stdout",
       "text": [
        "\n",
        "(0.60094850948509482, 232)"
       ]
      },
      {
       "output_type": "stream",
       "stream": "stdout",
       "text": [
        "\n",
        "(0.59552845528455289, 237)"
       ]
      },
      {
       "output_type": "stream",
       "stream": "stdout",
       "text": [
        "\n",
        "(0.59552845528455289, 242)"
       ]
      },
      {
       "output_type": "stream",
       "stream": "stdout",
       "text": [
        "\n",
        "(0.59552845528455289, 247)"
       ]
      },
      {
       "output_type": "stream",
       "stream": "stdout",
       "text": [
        "\n",
        "(0.59891598915989164, 252)"
       ]
      },
      {
       "output_type": "stream",
       "stream": "stdout",
       "text": [
        "\n",
        "(0.59891598915989164, 257)"
       ]
      },
      {
       "output_type": "stream",
       "stream": "stdout",
       "text": [
        "\n",
        "(0.59891598915989164, 262)"
       ]
      },
      {
       "output_type": "stream",
       "stream": "stdout",
       "text": [
        "\n",
        "(0.59281842818428188, 267)"
       ]
      },
      {
       "output_type": "stream",
       "stream": "stdout",
       "text": [
        "\n",
        "(0.59281842818428188, 272)"
       ]
      },
      {
       "output_type": "stream",
       "stream": "stdout",
       "text": [
        "\n",
        "(0.59281842818428188, 277)"
       ]
      },
      {
       "output_type": "stream",
       "stream": "stdout",
       "text": [
        "\n",
        "(0.58739837398373984, 282)"
       ]
      },
      {
       "output_type": "stream",
       "stream": "stdout",
       "text": [
        "\n",
        "(0.58197831978319781, 287)\n",
        "(0.58197831978319781, 292)"
       ]
      },
      {
       "output_type": "stream",
       "stream": "stdout",
       "text": [
        "\n",
        "(0.58197831978319781, 297)\n",
        "(0.58672086720867211, 302)"
       ]
      },
      {
       "output_type": "stream",
       "stream": "stdout",
       "text": [
        "\n",
        "(0.58672086720867211, 307)\n",
        "(0.58672086720867211, 312)"
       ]
      },
      {
       "output_type": "stream",
       "stream": "stdout",
       "text": [
        "\n",
        "(0.57655826558265577, 317)\n",
        "(0.57655826558265577, 322)"
       ]
      },
      {
       "output_type": "stream",
       "stream": "stdout",
       "text": [
        "\n",
        "(0.57452574525745259, 327)\n",
        "(0.57452574525745259, 332)"
       ]
      },
      {
       "output_type": "stream",
       "stream": "stdout",
       "text": [
        "\n",
        "(0.57452574525745259, 337)\n",
        "(0.57452574525745259, 342)"
       ]
      },
      {
       "output_type": "stream",
       "stream": "stdout",
       "text": [
        "\n",
        "(0.56707317073170727, 347)\n",
        "(0.56707317073170727, 352)"
       ]
      },
      {
       "output_type": "stream",
       "stream": "stdout",
       "text": [
        "\n",
        "(0.56707317073170727, 357)\n",
        "(0.56707317073170727, 362)"
       ]
      },
      {
       "output_type": "stream",
       "stream": "stdout",
       "text": [
        "\n",
        "(0.56707317073170727, 367)\n",
        "(0.56707317073170727, 372)"
       ]
      },
      {
       "output_type": "stream",
       "stream": "stdout",
       "text": [
        "\n",
        "(0.56707317073170727, 377)\n",
        "(0.56707317073170727, 382)"
       ]
      },
      {
       "output_type": "stream",
       "stream": "stdout",
       "text": [
        "\n",
        "(0.56707317073170727, 387)\n",
        "(0.56707317073170727, 392)"
       ]
      },
      {
       "output_type": "stream",
       "stream": "stdout",
       "text": [
        "\n",
        "(0.56707317073170727, 397)\n",
        "(0.56707317073170727, 402)"
       ]
      },
      {
       "output_type": "stream",
       "stream": "stdout",
       "text": [
        "\n",
        "(0.56707317073170727, 407)\n",
        "(0.56707317073170727, 412)"
       ]
      },
      {
       "output_type": "stream",
       "stream": "stdout",
       "text": [
        "\n",
        "(0.55216802168021684, 417)\n",
        "(0.55216802168021684, 422)"
       ]
      },
      {
       "output_type": "stream",
       "stream": "stdout",
       "text": [
        "\n",
        "(0.54403794037940378, 427)\n",
        "(0.54403794037940378, 432)"
       ]
      },
      {
       "output_type": "stream",
       "stream": "stdout",
       "text": [
        "\n",
        "(0.52371273712737132, 437)\n",
        "(0.51829268292682928, 442)"
       ]
      },
      {
       "output_type": "stream",
       "stream": "stdout",
       "text": [
        "\n",
        "(0.51829268292682928, 447)\n",
        "(0.51829268292682928, 452)"
       ]
      },
      {
       "output_type": "stream",
       "stream": "stdout",
       "text": [
        "\n",
        "(0.51829268292682928, 457)\n",
        "(0.50948509485094851, 462)"
       ]
      },
      {
       "output_type": "stream",
       "stream": "stdout",
       "text": [
        "\n",
        "(0.50948509485094851, 467)\n",
        "(0.50203252032520329, 472)"
       ]
      },
      {
       "output_type": "stream",
       "stream": "stdout",
       "text": [
        "\n",
        "(0.50203252032520329, 477)\n",
        "(0.50203252032520329, 482)"
       ]
      },
      {
       "output_type": "stream",
       "stream": "stdout",
       "text": [
        "\n",
        "(0.49254742547425473, 487)\n",
        "(0.49254742547425473, 492)"
       ]
      },
      {
       "output_type": "stream",
       "stream": "stdout",
       "text": [
        "\n",
        "(0.49254742547425473, 497)\n",
        "(0.49254742547425473, 502)"
       ]
      },
      {
       "output_type": "stream",
       "stream": "stdout",
       "text": [
        "\n",
        "(0.49254742547425473, 507)\n",
        "(0.49254742547425473, 512)"
       ]
      },
      {
       "output_type": "stream",
       "stream": "stdout",
       "text": [
        "\n",
        "(0.49254742547425473, 517)\n",
        "(0.49254742547425473, 522)"
       ]
      },
      {
       "output_type": "stream",
       "stream": "stdout",
       "text": [
        "\n",
        "(0.49254742547425473, 527)\n",
        "(0.49254742547425473, 532)"
       ]
      },
      {
       "output_type": "stream",
       "stream": "stdout",
       "text": [
        "\n",
        "(0.49254742547425473, 537)\n",
        "(0.49254742547425473, 542)"
       ]
      },
      {
       "output_type": "stream",
       "stream": "stdout",
       "text": [
        "\n",
        "(0.49254742547425473, 547)\n",
        "(0.49254742547425473, 552)"
       ]
      },
      {
       "output_type": "stream",
       "stream": "stdout",
       "text": [
        "\n",
        "(0.49254742547425473, 557)\n",
        "(0.49254742547425473, 562)"
       ]
      },
      {
       "output_type": "stream",
       "stream": "stdout",
       "text": [
        "\n",
        "(0.47831978319783197, 567)\n",
        "(0.47831978319783197, 572)"
       ]
      },
      {
       "output_type": "stream",
       "stream": "stdout",
       "text": [
        "\n",
        "(0.47831978319783197, 577)\n",
        "(0.47831978319783197, 582)"
       ]
      },
      {
       "output_type": "stream",
       "stream": "stdout",
       "text": [
        "\n",
        "(0.47018970189701897, 587)\n",
        "(0.47018970189701897, 592)"
       ]
      },
      {
       "output_type": "stream",
       "stream": "stdout",
       "text": [
        "\n",
        "(0.47018970189701897, 597)\n",
        "(0.54607046070460707, 2)"
       ]
      },
      {
       "output_type": "stream",
       "stream": "stdout",
       "text": [
        "\n",
        "(0.53319783197831983, 7)"
       ]
      },
      {
       "output_type": "stream",
       "stream": "stdout",
       "text": [
        "\n",
        "(0.54607046070460707, 12)"
       ]
      },
      {
       "output_type": "stream",
       "stream": "stdout",
       "text": [
        "\n",
        "(0.57655826558265577, 17)"
       ]
      },
      {
       "output_type": "stream",
       "stream": "stdout",
       "text": [
        "\n",
        "(0.59010840108401086, 22)"
       ]
      },
      {
       "output_type": "stream",
       "stream": "stdout",
       "text": [
        "\n",
        "(0.60704607046070458, 27)"
       ]
      },
      {
       "output_type": "stream",
       "stream": "stdout",
       "text": [
        "\n",
        "(0.61111111111111116, 32)"
       ]
      },
      {
       "output_type": "stream",
       "stream": "stdout",
       "text": [
        "\n",
        "(0.62398373983739841, 37)"
       ]
      },
      {
       "output_type": "stream",
       "stream": "stdout",
       "text": [
        "\n",
        "(0.63753387533875339, 42)"
       ]
      },
      {
       "output_type": "stream",
       "stream": "stdout",
       "text": [
        "\n",
        "(0.63143631436314362, 47)"
       ]
      },
      {
       "output_type": "stream",
       "stream": "stdout",
       "text": [
        "\n",
        "(0.63279132791327908, 52)"
       ]
      },
      {
       "output_type": "stream",
       "stream": "stdout",
       "text": [
        "\n",
        "(0.64566395663956644, 57)"
       ]
      },
      {
       "output_type": "stream",
       "stream": "stdout",
       "text": [
        "\n",
        "(0.64972899728997291, 62)"
       ]
      },
      {
       "output_type": "stream",
       "stream": "stdout",
       "text": [
        "\n",
        "(0.65447154471544711, 67)"
       ]
      },
      {
       "output_type": "stream",
       "stream": "stdout",
       "text": [
        "\n",
        "(0.65311653116531165, 72)"
       ]
      },
      {
       "output_type": "stream",
       "stream": "stdout",
       "text": [
        "\n",
        "(0.65514905149051494, 77)"
       ]
      },
      {
       "output_type": "stream",
       "stream": "stdout",
       "text": [
        "\n",
        "(0.65921409214092141, 82)"
       ]
      },
      {
       "output_type": "stream",
       "stream": "stdout",
       "text": [
        "\n",
        "(0.65379403794037938, 87)"
       ]
      },
      {
       "output_type": "stream",
       "stream": "stdout",
       "text": [
        "\n",
        "(0.6565040650406504, 92)"
       ]
      },
      {
       "output_type": "stream",
       "stream": "stdout",
       "text": [
        "\n",
        "(0.65718157181571812, 97)"
       ]
      },
      {
       "output_type": "stream",
       "stream": "stdout",
       "text": [
        "\n",
        "(0.64837398373983735, 102)"
       ]
      },
      {
       "output_type": "stream",
       "stream": "stdout",
       "text": [
        "\n",
        "(0.64837398373983735, 107)"
       ]
      },
      {
       "output_type": "stream",
       "stream": "stdout",
       "text": [
        "\n",
        "(0.64972899728997291, 112)"
       ]
      },
      {
       "output_type": "stream",
       "stream": "stdout",
       "text": [
        "\n",
        "(0.64363143631436315, 117)"
       ]
      },
      {
       "output_type": "stream",
       "stream": "stdout",
       "text": [
        "\n",
        "(0.64159891598915986, 122)"
       ]
      },
      {
       "output_type": "stream",
       "stream": "stdout",
       "text": [
        "\n",
        "(0.64159891598915986, 127)"
       ]
      },
      {
       "output_type": "stream",
       "stream": "stdout",
       "text": [
        "\n",
        "(0.62804878048780488, 132)"
       ]
      },
      {
       "output_type": "stream",
       "stream": "stdout",
       "text": [
        "\n",
        "(0.62669376693766943, 137)"
       ]
      },
      {
       "output_type": "stream",
       "stream": "stdout",
       "text": [
        "\n",
        "(0.62669376693766943, 142)"
       ]
      },
      {
       "output_type": "stream",
       "stream": "stdout",
       "text": [
        "\n",
        "(0.62669376693766943, 147)"
       ]
      },
      {
       "output_type": "stream",
       "stream": "stdout",
       "text": [
        "\n",
        "(0.61856368563685638, 152)"
       ]
      },
      {
       "output_type": "stream",
       "stream": "stdout",
       "text": [
        "\n",
        "(0.61178861788617889, 157)"
       ]
      },
      {
       "output_type": "stream",
       "stream": "stdout",
       "text": [
        "\n",
        "(0.61111111111111116, 162)"
       ]
      },
      {
       "output_type": "stream",
       "stream": "stdout",
       "text": [
        "\n",
        "(0.61111111111111116, 167)"
       ]
      },
      {
       "output_type": "stream",
       "stream": "stdout",
       "text": [
        "\n",
        "(0.61111111111111116, 172)"
       ]
      },
      {
       "output_type": "stream",
       "stream": "stdout",
       "text": [
        "\n",
        "(0.61517615176151763, 177)"
       ]
      },
      {
       "output_type": "stream",
       "stream": "stdout",
       "text": [
        "\n",
        "(0.6144986449864499, 182)"
       ]
      },
      {
       "output_type": "stream",
       "stream": "stdout",
       "text": [
        "\n",
        "(0.61246612466124661, 187)"
       ]
      },
      {
       "output_type": "stream",
       "stream": "stdout",
       "text": [
        "\n",
        "(0.60636856368563685, 192)"
       ]
      },
      {
       "output_type": "stream",
       "stream": "stdout",
       "text": [
        "\n",
        "(0.60230352303523038, 197)"
       ]
      },
      {
       "output_type": "stream",
       "stream": "stdout",
       "text": [
        "\n",
        "(0.59891598915989164, 202)"
       ]
      },
      {
       "output_type": "stream",
       "stream": "stdout",
       "text": [
        "\n",
        "(0.58943089430894313, 207)"
       ]
      },
      {
       "output_type": "stream",
       "stream": "stdout",
       "text": [
        "\n",
        "(0.58943089430894313, 212)"
       ]
      },
      {
       "output_type": "stream",
       "stream": "stdout",
       "text": [
        "\n",
        "(0.58943089430894313, 217)"
       ]
      },
      {
       "output_type": "stream",
       "stream": "stdout",
       "text": [
        "\n",
        "(0.59756097560975607, 222)"
       ]
      },
      {
       "output_type": "stream",
       "stream": "stdout",
       "text": [
        "\n",
        "(0.60365853658536583, 227)"
       ]
      },
      {
       "output_type": "stream",
       "stream": "stdout",
       "text": [
        "\n",
        "(0.60365853658536583, 232)"
       ]
      },
      {
       "output_type": "stream",
       "stream": "stdout",
       "text": [
        "\n",
        "(0.60365853658536583, 237)"
       ]
      },
      {
       "output_type": "stream",
       "stream": "stdout",
       "text": [
        "\n",
        "(0.60365853658536583, 242)"
       ]
      },
      {
       "output_type": "stream",
       "stream": "stdout",
       "text": [
        "\n",
        "(0.59959349593495936, 247)"
       ]
      },
      {
       "output_type": "stream",
       "stream": "stdout",
       "text": [
        "\n",
        "(0.59959349593495936, 252)"
       ]
      },
      {
       "output_type": "stream",
       "stream": "stdout",
       "text": [
        "\n",
        "(0.59959349593495936, 257)"
       ]
      },
      {
       "output_type": "stream",
       "stream": "stdout",
       "text": [
        "\n",
        "(0.59959349593495936, 262)"
       ]
      },
      {
       "output_type": "stream",
       "stream": "stdout",
       "text": [
        "\n",
        "(0.59959349593495936, 267)"
       ]
      },
      {
       "output_type": "stream",
       "stream": "stdout",
       "text": [
        "\n",
        "(0.58739837398373984, 272)"
       ]
      },
      {
       "output_type": "stream",
       "stream": "stdout",
       "text": [
        "\n",
        "(0.58468834688346882, 277)"
       ]
      },
      {
       "output_type": "stream",
       "stream": "stdout",
       "text": [
        "\n",
        "(0.58468834688346882, 282)"
       ]
      },
      {
       "output_type": "stream",
       "stream": "stdout",
       "text": [
        "\n",
        "(0.58536585365853655, 287)"
       ]
      },
      {
       "output_type": "stream",
       "stream": "stdout",
       "text": [
        "\n",
        "(0.58536585365853655, 292)"
       ]
      },
      {
       "output_type": "stream",
       "stream": "stdout",
       "text": [
        "\n",
        "(0.58536585365853655, 297)"
       ]
      },
      {
       "output_type": "stream",
       "stream": "stdout",
       "text": [
        "\n",
        "(0.57859078590785906, 302)"
       ]
      },
      {
       "output_type": "stream",
       "stream": "stdout",
       "text": [
        "\n",
        "(0.57859078590785906, 307)"
       ]
      },
      {
       "output_type": "stream",
       "stream": "stdout",
       "text": [
        "\n",
        "(0.57859078590785906, 312)"
       ]
      },
      {
       "output_type": "stream",
       "stream": "stdout",
       "text": [
        "\n",
        "(0.57859078590785906, 317)"
       ]
      },
      {
       "output_type": "stream",
       "stream": "stdout",
       "text": [
        "\n",
        "(0.57859078590785906, 322)"
       ]
      },
      {
       "output_type": "stream",
       "stream": "stdout",
       "text": [
        "\n",
        "(0.5724932249322493, 327)\n",
        "(0.57113821138211385, 332)"
       ]
      },
      {
       "output_type": "stream",
       "stream": "stdout",
       "text": [
        "\n",
        "(0.57113821138211385, 337)\n",
        "(0.57113821138211385, 342)"
       ]
      },
      {
       "output_type": "stream",
       "stream": "stdout",
       "text": [
        "\n",
        "(0.57113821138211385, 347)\n",
        "(0.57113821138211385, 352)"
       ]
      },
      {
       "output_type": "stream",
       "stream": "stdout",
       "text": [
        "\n",
        "(0.57113821138211385, 357)"
       ]
      },
      {
       "output_type": "stream",
       "stream": "stdout",
       "text": [
        "\n",
        "(0.57113821138211385, 362)\n",
        "(0.56368563685636852, 367)"
       ]
      },
      {
       "output_type": "stream",
       "stream": "stdout",
       "text": [
        "\n",
        "(0.56368563685636852, 372)\n",
        "(0.56368563685636852, 377)"
       ]
      },
      {
       "output_type": "stream",
       "stream": "stdout",
       "text": [
        "\n",
        "(0.56368563685636852, 382)\n",
        "(0.56368563685636852, 387)"
       ]
      },
      {
       "output_type": "stream",
       "stream": "stdout",
       "text": [
        "\n",
        "(0.56368563685636852, 392)\n",
        "(0.56029810298102978, 397)"
       ]
      },
      {
       "output_type": "stream",
       "stream": "stdout",
       "text": [
        "\n",
        "(0.56029810298102978, 402)\n",
        "(0.56029810298102978, 407)"
       ]
      },
      {
       "output_type": "stream",
       "stream": "stdout",
       "text": [
        "\n",
        "(0.55691056910569103, 412)\n",
        "(0.55216802168021684, 417)"
       ]
      },
      {
       "output_type": "stream",
       "stream": "stdout",
       "text": [
        "\n",
        "(0.55216802168021684, 422)\n",
        "(0.55216802168021684, 427)"
       ]
      },
      {
       "output_type": "stream",
       "stream": "stdout",
       "text": [
        "\n",
        "(0.55216802168021684, 432)\n",
        "(0.55216802168021684, 437)"
       ]
      },
      {
       "output_type": "stream",
       "stream": "stdout",
       "text": [
        "\n",
        "(0.54200542005420049, 442)\n",
        "(0.53319783197831983, 447)"
       ]
      },
      {
       "output_type": "stream",
       "stream": "stdout",
       "text": [
        "\n",
        "(0.53319783197831983, 452)\n",
        "(0.53319783197831983, 457)"
       ]
      },
      {
       "output_type": "stream",
       "stream": "stdout",
       "text": [
        "\n",
        "(0.53319783197831983, 462)\n",
        "(0.53319783197831983, 467)"
       ]
      },
      {
       "output_type": "stream",
       "stream": "stdout",
       "text": [
        "\n",
        "(0.52710027100271006, 472)\n",
        "(0.52168021680216803, 477)"
       ]
      },
      {
       "output_type": "stream",
       "stream": "stdout",
       "text": [
        "\n",
        "(0.51355013550135498, 482)\n",
        "(0.51355013550135498, 487)"
       ]
      },
      {
       "output_type": "stream",
       "stream": "stdout",
       "text": [
        "\n",
        "(0.51355013550135498, 492)\n",
        "(0.51355013550135498, 497)"
       ]
      },
      {
       "output_type": "stream",
       "stream": "stdout",
       "text": [
        "\n",
        "(0.51355013550135498, 502)\n",
        "(0.51355013550135498, 507)"
       ]
      },
      {
       "output_type": "stream",
       "stream": "stdout",
       "text": [
        "\n",
        "(0.51355013550135498, 512)\n",
        "(0.51355013550135498, 517)"
       ]
      },
      {
       "output_type": "stream",
       "stream": "stdout",
       "text": [
        "\n",
        "(0.51355013550135498, 522)\n",
        "(0.51355013550135498, 527)"
       ]
      },
      {
       "output_type": "stream",
       "stream": "stdout",
       "text": [
        "\n",
        "(0.51355013550135498, 532)\n",
        "(0.49864498644986449, 537)"
       ]
      },
      {
       "output_type": "stream",
       "stream": "stdout",
       "text": [
        "\n",
        "(0.49864498644986449, 542)\n",
        "(0.49864498644986449, 547)"
       ]
      },
      {
       "output_type": "stream",
       "stream": "stdout",
       "text": [
        "\n",
        "(0.49864498644986449, 552)\n",
        "(0.49864498644986449, 557)"
       ]
      },
      {
       "output_type": "stream",
       "stream": "stdout",
       "text": [
        "\n",
        "(0.49864498644986449, 562)\n",
        "(0.49864498644986449, 567)"
       ]
      },
      {
       "output_type": "stream",
       "stream": "stdout",
       "text": [
        "\n",
        "(0.49864498644986449, 572)\n",
        "(0.49864498644986449, 577)"
       ]
      },
      {
       "output_type": "stream",
       "stream": "stdout",
       "text": [
        "\n",
        "(0.49864498644986449, 582)\n",
        "(0.49864498644986449, 587)"
       ]
      },
      {
       "output_type": "stream",
       "stream": "stdout",
       "text": [
        "\n",
        "(0.48848238482384826, 592)\n",
        "(0.48848238482384826, 597)"
       ]
      },
      {
       "output_type": "stream",
       "stream": "stdout",
       "text": [
        "\n",
        "(0.54742547425474253, 2)"
       ]
      },
      {
       "output_type": "stream",
       "stream": "stdout",
       "text": [
        "\n",
        "(0.54945799457994582, 7)"
       ]
      },
      {
       "output_type": "stream",
       "stream": "stdout",
       "text": [
        "\n",
        "(0.59552845528455289, 12)"
       ]
      },
      {
       "output_type": "stream",
       "stream": "stdout",
       "text": [
        "\n",
        "(0.58807588075880757, 17)"
       ]
      },
      {
       "output_type": "stream",
       "stream": "stdout",
       "text": [
        "\n",
        "(0.60840108401084014, 22)"
       ]
      },
      {
       "output_type": "stream",
       "stream": "stdout",
       "text": [
        "\n",
        "(0.61246612466124661, 27)"
       ]
      },
      {
       "output_type": "stream",
       "stream": "stdout",
       "text": [
        "\n",
        "(0.62669376693766943, 32)"
       ]
      },
      {
       "output_type": "stream",
       "stream": "stdout",
       "text": [
        "\n",
        "(0.64430894308943087, 37)"
       ]
      },
      {
       "output_type": "stream",
       "stream": "stdout",
       "text": [
        "\n",
        "(0.63414634146341464, 42)"
       ]
      },
      {
       "output_type": "stream",
       "stream": "stdout",
       "text": [
        "\n",
        "(0.64363143631436315, 47)"
       ]
      },
      {
       "output_type": "stream",
       "stream": "stdout",
       "text": [
        "\n",
        "(0.65379403794037938, 52)"
       ]
      },
      {
       "output_type": "stream",
       "stream": "stdout",
       "text": [
        "\n",
        "(0.64905149051490518, 57)"
       ]
      },
      {
       "output_type": "stream",
       "stream": "stdout",
       "text": [
        "\n",
        "(0.65108401084010836, 62)"
       ]
      },
      {
       "output_type": "stream",
       "stream": "stdout",
       "text": [
        "\n",
        "(0.67411924119241196, 67)"
       ]
      },
      {
       "output_type": "stream",
       "stream": "stdout",
       "text": [
        "\n",
        "(0.67953929539295388, 72)"
       ]
      },
      {
       "output_type": "stream",
       "stream": "stdout",
       "text": [
        "\n",
        "(0.6659891598915989, 77)"
       ]
      },
      {
       "output_type": "stream",
       "stream": "stdout",
       "text": [
        "\n",
        "(0.66395663956639561, 82)"
       ]
      },
      {
       "output_type": "stream",
       "stream": "stdout",
       "text": [
        "\n",
        "(0.65921409214092141, 87)"
       ]
      },
      {
       "output_type": "stream",
       "stream": "stdout",
       "text": [
        "\n",
        "(0.6565040650406504, 92)"
       ]
      },
      {
       "output_type": "stream",
       "stream": "stdout",
       "text": [
        "\n",
        "(0.6565040650406504, 97)"
       ]
      },
      {
       "output_type": "stream",
       "stream": "stdout",
       "text": [
        "\n",
        "(0.65243902439024393, 102)"
       ]
      },
      {
       "output_type": "stream",
       "stream": "stdout",
       "text": [
        "\n",
        "(0.65040650406504064, 107)"
       ]
      },
      {
       "output_type": "stream",
       "stream": "stdout",
       "text": [
        "\n",
        "(0.64769647696476962, 112)"
       ]
      },
      {
       "output_type": "stream",
       "stream": "stdout",
       "text": [
        "\n",
        "(0.64905149051490518, 117)"
       ]
      },
      {
       "output_type": "stream",
       "stream": "stdout",
       "text": [
        "\n",
        "(0.64837398373983735, 122)"
       ]
      },
      {
       "output_type": "stream",
       "stream": "stdout",
       "text": [
        "\n",
        "(0.65311653116531165, 127)"
       ]
      },
      {
       "output_type": "stream",
       "stream": "stdout",
       "text": [
        "\n",
        "(0.65108401084010836, 132)"
       ]
      },
      {
       "output_type": "stream",
       "stream": "stdout",
       "text": [
        "\n",
        "(0.64972899728997291, 137)"
       ]
      },
      {
       "output_type": "stream",
       "stream": "stdout",
       "text": [
        "\n",
        "(0.64837398373983735, 142)"
       ]
      },
      {
       "output_type": "stream",
       "stream": "stdout",
       "text": [
        "\n",
        "(0.64769647696476962, 147)"
       ]
      },
      {
       "output_type": "stream",
       "stream": "stdout",
       "text": [
        "\n",
        "(0.64769647696476962, 152)"
       ]
      },
      {
       "output_type": "stream",
       "stream": "stdout",
       "text": [
        "\n",
        "(0.64566395663956644, 157)"
       ]
      },
      {
       "output_type": "stream",
       "stream": "stdout",
       "text": [
        "\n",
        "(0.64905149051490518, 162)"
       ]
      },
      {
       "output_type": "stream",
       "stream": "stdout",
       "text": [
        "\n",
        "(0.6517615176151762, 167)"
       ]
      },
      {
       "output_type": "stream",
       "stream": "stdout",
       "text": [
        "\n",
        "(0.64837398373983735, 172)"
       ]
      },
      {
       "output_type": "stream",
       "stream": "stdout",
       "text": [
        "\n",
        "(0.64566395663956644, 177)"
       ]
      },
      {
       "output_type": "stream",
       "stream": "stdout",
       "text": [
        "\n",
        "(0.63888888888888884, 182)"
       ]
      },
      {
       "output_type": "stream",
       "stream": "stdout",
       "text": [
        "\n",
        "(0.63685636856368566, 187)"
       ]
      },
      {
       "output_type": "stream",
       "stream": "stdout",
       "text": [
        "\n",
        "(0.63685636856368566, 192)"
       ]
      },
      {
       "output_type": "stream",
       "stream": "stdout",
       "text": [
        "\n",
        "(0.63414634146341464, 197)"
       ]
      },
      {
       "output_type": "stream",
       "stream": "stdout",
       "text": [
        "\n",
        "(0.63143631436314362, 202)"
       ]
      },
      {
       "output_type": "stream",
       "stream": "stdout",
       "text": [
        "\n",
        "(0.63482384823848237, 207)"
       ]
      },
      {
       "output_type": "stream",
       "stream": "stdout",
       "text": [
        "\n",
        "(0.63008130081300817, 212)"
       ]
      },
      {
       "output_type": "stream",
       "stream": "stdout",
       "text": [
        "\n",
        "(0.63008130081300817, 217)"
       ]
      },
      {
       "output_type": "stream",
       "stream": "stdout",
       "text": [
        "\n",
        "(0.63008130081300817, 222)"
       ]
      },
      {
       "output_type": "stream",
       "stream": "stdout",
       "text": [
        "\n",
        "(0.63008130081300817, 227)"
       ]
      },
      {
       "output_type": "stream",
       "stream": "stdout",
       "text": [
        "\n",
        "(0.62940379403794033, 232)"
       ]
      },
      {
       "output_type": "stream",
       "stream": "stdout",
       "text": [
        "\n",
        "(0.62940379403794033, 237)"
       ]
      },
      {
       "output_type": "stream",
       "stream": "stdout",
       "text": [
        "\n",
        "(0.62940379403794033, 242)"
       ]
      },
      {
       "output_type": "stream",
       "stream": "stdout",
       "text": [
        "\n",
        "(0.62669376693766943, 247)"
       ]
      },
      {
       "output_type": "stream",
       "stream": "stdout",
       "text": [
        "\n",
        "(0.62669376693766943, 252)"
       ]
      },
      {
       "output_type": "stream",
       "stream": "stdout",
       "text": [
        "\n",
        "(0.62737127371273715, 257)"
       ]
      },
      {
       "output_type": "stream",
       "stream": "stdout",
       "text": [
        "\n",
        "(0.62737127371273715, 262)"
       ]
      },
      {
       "output_type": "stream",
       "stream": "stdout",
       "text": [
        "\n",
        "(0.62737127371273715, 267)"
       ]
      },
      {
       "output_type": "stream",
       "stream": "stdout",
       "text": [
        "\n",
        "(0.62601626016260159, 272)"
       ]
      },
      {
       "output_type": "stream",
       "stream": "stdout",
       "text": [
        "\n",
        "(0.60772357723577231, 277)"
       ]
      },
      {
       "output_type": "stream",
       "stream": "stdout",
       "text": [
        "\n",
        "(0.5982384823848238, 282)"
       ]
      },
      {
       "output_type": "stream",
       "stream": "stdout",
       "text": [
        "\n",
        "(0.57452574525745259, 287)"
       ]
      },
      {
       "output_type": "stream",
       "stream": "stdout",
       "text": [
        "\n",
        "(0.57520325203252032, 292)"
       ]
      },
      {
       "output_type": "stream",
       "stream": "stdout",
       "text": [
        "\n",
        "(0.57520325203252032, 297)"
       ]
      },
      {
       "output_type": "stream",
       "stream": "stdout",
       "text": [
        "\n",
        "(0.57520325203252032, 302)"
       ]
      },
      {
       "output_type": "stream",
       "stream": "stdout",
       "text": [
        "\n",
        "(0.56978319783197828, 307)"
       ]
      },
      {
       "output_type": "stream",
       "stream": "stdout",
       "text": [
        "\n",
        "(0.56910569105691056, 312)"
       ]
      },
      {
       "output_type": "stream",
       "stream": "stdout",
       "text": [
        "\n",
        "(0.56165311653116534, 317)"
       ]
      },
      {
       "output_type": "stream",
       "stream": "stdout",
       "text": [
        "\n",
        "(0.56165311653116534, 322)"
       ]
      },
      {
       "output_type": "stream",
       "stream": "stdout",
       "text": [
        "\n",
        "(0.56029810298102978, 327)\n",
        "(0.56029810298102978, 332)"
       ]
      },
      {
       "output_type": "stream",
       "stream": "stdout",
       "text": [
        "\n",
        "(0.56029810298102978, 337)\n",
        "(0.56029810298102978, 342)"
       ]
      },
      {
       "output_type": "stream",
       "stream": "stdout",
       "text": [
        "\n",
        "(0.56029810298102978, 347)\n",
        "(0.56029810298102978, 352)"
       ]
      },
      {
       "output_type": "stream",
       "stream": "stdout",
       "text": [
        "\n",
        "(0.55487804878048785, 357)\n",
        "(0.54810298102981025, 362)"
       ]
      },
      {
       "output_type": "stream",
       "stream": "stdout",
       "text": [
        "\n",
        "(0.54810298102981025, 367)\n",
        "(0.54810298102981025, 372)"
       ]
      },
      {
       "output_type": "stream",
       "stream": "stdout",
       "text": [
        "\n",
        "(0.54810298102981025, 377)\n",
        "(0.54810298102981025, 382)"
       ]
      },
      {
       "output_type": "stream",
       "stream": "stdout",
       "text": [
        "\n",
        "(0.54810298102981025, 387)\n",
        "(0.54810298102981025, 392)"
       ]
      },
      {
       "output_type": "stream",
       "stream": "stdout",
       "text": [
        "\n",
        "(0.53929539295392959, 397)\n",
        "(0.53929539295392959, 402)"
       ]
      },
      {
       "output_type": "stream",
       "stream": "stdout",
       "text": [
        "\n",
        "(0.52981029810298108, 407)"
       ]
      },
      {
       "output_type": "stream",
       "stream": "stdout",
       "text": [
        "\n",
        "(0.52371273712737132, 412)"
       ]
      },
      {
       "output_type": "stream",
       "stream": "stdout",
       "text": [
        "\n",
        "(0.52371273712737132, 417)"
       ]
      },
      {
       "output_type": "stream",
       "stream": "stdout",
       "text": [
        "\n",
        "(0.52371273712737132, 422)"
       ]
      },
      {
       "output_type": "stream",
       "stream": "stdout",
       "text": [
        "\n",
        "(0.52371273712737132, 427)\n",
        "(0.51490514905149054, 432)"
       ]
      },
      {
       "output_type": "stream",
       "stream": "stdout",
       "text": [
        "\n",
        "(0.51490514905149054, 437)\n",
        "(0.51490514905149054, 442)"
       ]
      },
      {
       "output_type": "stream",
       "stream": "stdout",
       "text": [
        "\n",
        "(0.51490514905149054, 447)\n",
        "(0.51490514905149054, 452)"
       ]
      },
      {
       "output_type": "stream",
       "stream": "stdout",
       "text": [
        "\n",
        "(0.51490514905149054, 457)\n",
        "(0.51490514905149054, 462)"
       ]
      },
      {
       "output_type": "stream",
       "stream": "stdout",
       "text": [
        "\n",
        "(0.51016260162601623, 467)\n",
        "(0.51016260162601623, 472)"
       ]
      },
      {
       "output_type": "stream",
       "stream": "stdout",
       "text": [
        "\n",
        "(0.51016260162601623, 477)\n",
        "(0.51016260162601623, 482)"
       ]
      },
      {
       "output_type": "stream",
       "stream": "stdout",
       "text": [
        "\n",
        "(0.51016260162601623, 487)\n",
        "(0.51016260162601623, 492)"
       ]
      },
      {
       "output_type": "stream",
       "stream": "stdout",
       "text": [
        "\n",
        "(0.51016260162601623, 497)\n",
        "(0.51016260162601623, 502)"
       ]
      },
      {
       "output_type": "stream",
       "stream": "stdout",
       "text": [
        "\n",
        "(0.51016260162601623, 507)\n",
        "(0.51016260162601623, 512)"
       ]
      },
      {
       "output_type": "stream",
       "stream": "stdout",
       "text": [
        "\n",
        "(0.51016260162601623, 517)\n",
        "(0.51016260162601623, 522)"
       ]
      },
      {
       "output_type": "stream",
       "stream": "stdout",
       "text": [
        "\n",
        "(0.491869918699187, 527)\n",
        "(0.491869918699187, 532)"
       ]
      },
      {
       "output_type": "stream",
       "stream": "stdout",
       "text": [
        "\n",
        "(0.491869918699187, 537)\n",
        "(0.491869918699187, 542)"
       ]
      },
      {
       "output_type": "stream",
       "stream": "stdout",
       "text": [
        "\n",
        "(0.491869918699187, 547)\n",
        "(0.491869918699187, 552)"
       ]
      },
      {
       "output_type": "stream",
       "stream": "stdout",
       "text": [
        "\n",
        "(0.491869918699187, 557)\n",
        "(0.491869918699187, 562)"
       ]
      },
      {
       "output_type": "stream",
       "stream": "stdout",
       "text": [
        "\n",
        "(0.491869918699187, 567)\n",
        "(0.491869918699187, 572)"
       ]
      },
      {
       "output_type": "stream",
       "stream": "stdout",
       "text": [
        "\n",
        "(0.491869918699187, 577)\n",
        "(0.491869918699187, 582)"
       ]
      },
      {
       "output_type": "stream",
       "stream": "stdout",
       "text": [
        "\n",
        "(0.491869918699187, 587)\n",
        "(0.491869918699187, 592)"
       ]
      },
      {
       "output_type": "stream",
       "stream": "stdout",
       "text": [
        "\n",
        "(0.491869918699187, 597)\n"
       ]
      }
     ],
     "prompt_number": 13
    },
    {
     "cell_type": "code",
     "collapsed": false,
     "input": [
      "# hyper_check2=hyper_check.copy()\n",
      "# inJSON= hyper_check\n",
      "# outputFName=train_path+\"min_samples_split_cross_validation_without_words.json\"\n",
      "# outJSON=open(outputFName, \"w\")\n",
      "# json.dump(inJSON, outJSON)\n",
      "# outJSON.close()"
     ],
     "language": "python",
     "metadata": {},
     "outputs": [],
     "prompt_number": 14
    },
    {
     "cell_type": "code",
     "collapsed": false,
     "input": [
      "inputFName=train_path+\"min_samples_split_cross_validation_without_words.json\"\n",
      "inFile = open(inputFName, \"r\")\n",
      "hyper_check=json.load(inFile)"
     ],
     "language": "python",
     "metadata": {},
     "outputs": [],
     "prompt_number": 51
    },
    {
     "cell_type": "code",
     "collapsed": false,
     "input": [
      "fig, ax = plt.subplots(figsize=(8,6))\n",
      "n_iter, test_size=5, 0.20\n",
      "\n",
      "hyper_check_transposed=np.array([hyper_check[elt] for elt in hyper_check.keys() if not elt=='hyper_range']).T\n",
      "x=np.array(hyper_check['hyper_range'])\n",
      "y_array=hyper_check_transposed\n",
      "y=np.mean(y_array,axis=1)\n",
      "\n",
      "yerr =np.std(y_array,axis=1)\n",
      "# First illustrate basic pyplot interface, using defaults where possible.\n",
      "if len(y_array[0])==1:\n",
      "    plt.plot(x, y,'o')\n",
      "else:\n",
      "    plt.errorbar(x, y, yerr=yerr,fmt='o')\n",
      "ax.set_xlim(min(x)-10,max(x)+10)\n",
      "ax.set_title(\"Decision tree %i fold cross-validation,\\nno words as features\"%(n_iter))\n",
      "ax.set_xlabel('The minimum number of samples required to split an internal node')\n",
      "ax.set_ylabel('Cross-validation accuracy')\n",
      "ax.text(1300, .67, r'number of samples=%i,'%(total_len))"
     ],
     "language": "python",
     "metadata": {},
     "outputs": [
      {
       "metadata": {},
       "output_type": "pyout",
       "prompt_number": 52,
       "text": [
        "<matplotlib.text.Text at 0x60e4f50>"
       ]
      }
     ],
     "prompt_number": 52
    },
    {
     "cell_type": "heading",
     "level": 2,
     "metadata": {},
     "source": [
      "Final Test for the Model- without Words"
     ]
    },
    {
     "cell_type": "code",
     "collapsed": false,
     "input": [
      "best_hyper=62\n",
      "\n",
      "\n",
      "my_path_keys=['train','test'] # should be in this order\n",
      "my_paths=[train_path,test_path]\n",
      "\n",
      "\n",
      "results=create_Train_Test_data(my_paths,my_path_keys,addWords_bool=False)\n",
      "results.keys(),results['test'].shape,results['train'].shape\n",
      "\n",
      "results['test'].shape,results['train'].shape\n",
      "df_train=results['train']\n",
      "df_test=results['test']"
     ],
     "language": "python",
     "metadata": {},
     "outputs": [],
     "prompt_number": 53
    },
    {
     "cell_type": "code",
     "collapsed": false,
     "input": [
      "\n",
      "df_dictionary= transform_csv(df_train, target_col='rating')\n",
      "(X_train, y_train)=transform_sklearn_dictionary(df_dictionary)\n",
      "\n",
      "df_dictionary= transform_csv(df_test, target_col='rating')\n",
      "(X_test, y_test)=transform_sklearn_dictionary(df_dictionary)\n",
      "\n",
      "print('start DecisionTreeClassifier')\n",
      "clf = DecisionTreeClassifier(random_state=0,min_samples_split=best_hyper)\n",
      "clf = clf.fit(X_train, y_train)\n",
      "\n",
      "print(clf.score(X_test,y_test))\n",
      "\n"
     ],
     "language": "python",
     "metadata": {},
     "outputs": [
      {
       "output_type": "stream",
       "stream": "stdout",
       "text": [
        "start DecisionTreeClassifier\n",
        "0.637480798771"
       ]
      },
      {
       "output_type": "stream",
       "stream": "stdout",
       "text": [
        "\n"
       ]
      }
     ],
     "prompt_number": 54
    },
    {
     "cell_type": "heading",
     "level": 2,
     "metadata": {},
     "source": [
      "importances"
     ]
    },
    {
     "cell_type": "code",
     "collapsed": false,
     "input": [
      "numpy.sort(clf.feature_importances_)[-10:]"
     ],
     "language": "python",
     "metadata": {},
     "outputs": [
      {
       "metadata": {},
       "output_type": "pyout",
       "prompt_number": 55,
       "text": [
        "array([ 0.01244172,  0.01453137,  0.02085478,  0.02165222,  0.02388983,\n",
        "        0.14953691,  0.17658921,  0.17880397,  0.1822471 ,  0.18476299])"
       ]
      }
     ],
     "prompt_number": 55
    },
    {
     "cell_type": "code",
     "collapsed": false,
     "input": [
      "fig, ax = plt.subplots(figsize=(8,6))\n",
      "\n",
      "\n",
      "most_important=numpy.argsort(clf.feature_importances_)[-10:][::-1]\n",
      "most_important_list=list(df_train.columns[most_important+1])\n",
      "\n",
      "\n",
      "#ax.barh(np.arange(1,21,1),clf.feature_importances_[most_important])\n",
      "ax.set_title(\"Feature importances\")\n",
      "\n",
      "ax.barh(np.arange(10), numpy.sort(clf.feature_importances_)[-10:],color=\"r\", align=\"center\")\n",
      "ax.set_yticks(range(10))\n",
      "ax.set_ylim([-1, 10])\n",
      "ax.set_yticklabels(df_train.columns[(numpy.argsort(clf.feature_importances_)[-10:])+1])\n",
      "ax.text(0.07,0,'best test score: %.2f'%(0.64))\n",
      "feature_weights_without_words={}\n",
      "feature_weights_without_words['features']=list(df_train.columns[(numpy.argsort(clf.feature_importances_)[::-1])+1])\n",
      "feature_weights_without_words['weight']=list(numpy.sort(clf.feature_importances_)[::-1])\n",
      "\n",
      "\n",
      "\n",
      "outputFName=train_path+\"feature_weights_without_words.json\"\n",
      "outJSON=open(outputFName, \"w\")\n",
      "json.dump(feature_weights_without_words, outJSON)\n",
      "outJSON.close()\n",
      "\n",
      "inputFName=train_path+\"feature_weights_without_words.json\"\n",
      "inFile = open(inputFName, \"r\")\n",
      "feature_weights_without_words=json.load(inFile)\n"
     ],
     "language": "python",
     "metadata": {},
     "outputs": [],
     "prompt_number": 56
    },
    {
     "cell_type": "heading",
     "level": 2,
     "metadata": {},
     "source": [
      "PLot Tree"
     ]
    },
    {
     "cell_type": "code",
     "collapsed": false,
     "input": [
      "import pydot\n",
      "from sklearn import tree\n",
      "from sklearn.externals.six import StringIO\n",
      "\n",
      "dot_data = StringIO() \n",
      "tree.export_graphviz(clf, out_file=dot_data) \n",
      "graph = pydot.graph_from_dot_data(dot_data.getvalue()) \n",
      "graph.write_pdf(train_path+\"without_words.pdf\") "
     ],
     "language": "python",
     "metadata": {},
     "outputs": [
      {
       "metadata": {},
       "output_type": "pyout",
       "prompt_number": 57,
       "text": [
        "True"
       ]
      }
     ],
     "prompt_number": 57
    },
    {
     "cell_type": "heading",
     "level": 1,
     "metadata": {},
     "source": [
      "With words"
     ]
    },
    {
     "cell_type": "code",
     "collapsed": false,
     "input": [
      "total_len=len(json.load(open(train_path+\"isFirstPerson.json\", \"r\")))"
     ],
     "language": "python",
     "metadata": {},
     "outputs": [],
     "prompt_number": 29
    },
    {
     "cell_type": "code",
     "collapsed": false,
     "input": [
      "my_min=2\n",
      "my_max=np.max([total_len/5,2])\n",
      "hyper_range=np.arange(my_min,my_max,50)"
     ],
     "language": "python",
     "metadata": {},
     "outputs": [],
     "prompt_number": 30
    },
    {
     "cell_type": "code",
     "collapsed": false,
     "input": [
      "rs=cross_validation.ShuffleSplit(total_len, n_iter=5, test_size=0.20)\n",
      "clf = DecisionTreeClassifier(random_state=0)\n",
      "hyper_check={}\n",
      "my_iter=0\n",
      "for train_index, test_index in rs:\n",
      "    my_iter+=1\n",
      "    myindex=(train_index,test_index )\n",
      "    my_path_keys=['train','test'] # should be in this order\n",
      "    my_paths=[cross_train_path,cross_test_path]\n",
      "    results=create_Train_Test_data(my_paths,my_path_keys,myindex=myindex)\n",
      "    results.keys(),results['test'].shape,results['train'].shape\n",
      "\n",
      "    results['test'].shape,results['train'].shape\n",
      "    df_train=results['train']\n",
      "    df_test=results['test']\n",
      "    df_dictionary= transform_csv(df_train, target_col='rating')\n",
      "    (X_train, y_train)=transform_sklearn_dictionary(df_dictionary)\n",
      "\n",
      "    df_dictionary= transform_csv(df_test, target_col='rating')\n",
      "    (X_test, y_test)=transform_sklearn_dictionary(df_dictionary)\n",
      "    validation_errors=[]\n",
      "    \n",
      "    for my_hyper in hyper_range:\n",
      "        clf.set_params(min_samples_split=my_hyper)\n",
      "        clf = clf.fit(X_train, y_train)\n",
      "        validation_errors.append(clf.score(X_test,y_test))\n",
      "        print (clf.score(X_test,y_test),my_hyper )\n",
      "        \n",
      "    hyper_check['my_iter'+str(my_iter)]=validation_errors\n",
      "hyper_check['hyper_range']=list(hyper_range)\n"
     ],
     "language": "python",
     "metadata": {},
     "outputs": [
      {
       "output_type": "stream",
       "stream": "stdout",
       "text": [
        "(0.64972899728997291, 2)\n",
        "(0.66192411924119243, 52)"
       ]
      },
      {
       "output_type": "stream",
       "stream": "stdout",
       "text": [
        "\n",
        "(0.69105691056910568, 102)"
       ]
      },
      {
       "output_type": "stream",
       "stream": "stdout",
       "text": [
        "\n",
        "(0.70257452574525747, 152)"
       ]
      },
      {
       "output_type": "stream",
       "stream": "stdout",
       "text": [
        "\n",
        "(0.70799457994579951, 202)"
       ]
      },
      {
       "output_type": "stream",
       "stream": "stdout",
       "text": [
        "\n",
        "(0.70528455284552849, 252)"
       ]
      },
      {
       "output_type": "stream",
       "stream": "stdout",
       "text": [
        "\n",
        "(0.70663956639566394, 302)"
       ]
      },
      {
       "output_type": "stream",
       "stream": "stdout",
       "text": [
        "\n",
        "(0.71409214092140927, 352)"
       ]
      },
      {
       "output_type": "stream",
       "stream": "stdout",
       "text": [
        "\n",
        "(0.70934959349593496, 402)"
       ]
      },
      {
       "output_type": "stream",
       "stream": "stdout",
       "text": [
        "\n",
        "(0.70867208672086723, 452)"
       ]
      },
      {
       "output_type": "stream",
       "stream": "stdout",
       "text": [
        "\n",
        "(0.70867208672086723, 502)"
       ]
      },
      {
       "output_type": "stream",
       "stream": "stdout",
       "text": [
        "\n",
        "(0.70867208672086723, 552)"
       ]
      },
      {
       "output_type": "stream",
       "stream": "stdout",
       "text": [
        "\n",
        "(0.70867208672086723, 602)"
       ]
      },
      {
       "output_type": "stream",
       "stream": "stdout",
       "text": [
        "\n",
        "(0.70799457994579951, 652)"
       ]
      },
      {
       "output_type": "stream",
       "stream": "stdout",
       "text": [
        "\n",
        "(0.70663956639566394, 702)"
       ]
      },
      {
       "output_type": "stream",
       "stream": "stdout",
       "text": [
        "\n",
        "(0.69579945799457998, 752)"
       ]
      },
      {
       "output_type": "stream",
       "stream": "stdout",
       "text": [
        "\n",
        "(0.69579945799457998, 802)"
       ]
      },
      {
       "output_type": "stream",
       "stream": "stdout",
       "text": [
        "\n",
        "(0.69376693766937669, 852)"
       ]
      },
      {
       "output_type": "stream",
       "stream": "stdout",
       "text": [
        "\n",
        "(0.69376693766937669, 902)"
       ]
      },
      {
       "output_type": "stream",
       "stream": "stdout",
       "text": [
        "\n",
        "(0.68766937669376693, 952)"
       ]
      },
      {
       "output_type": "stream",
       "stream": "stdout",
       "text": [
        "\n",
        "(0.68428184281842819, 1002)"
       ]
      },
      {
       "output_type": "stream",
       "stream": "stdout",
       "text": [
        "\n",
        "(0.68428184281842819, 1052)"
       ]
      },
      {
       "output_type": "stream",
       "stream": "stdout",
       "text": [
        "\n",
        "(0.68428184281842819, 1102)"
       ]
      },
      {
       "output_type": "stream",
       "stream": "stdout",
       "text": [
        "\n",
        "(0.68428184281842819, 1152)"
       ]
      },
      {
       "output_type": "stream",
       "stream": "stdout",
       "text": [
        "\n",
        "(0.68428184281842819, 1202)"
       ]
      },
      {
       "output_type": "stream",
       "stream": "stdout",
       "text": [
        "\n",
        "(0.68428184281842819, 1252)"
       ]
      },
      {
       "output_type": "stream",
       "stream": "stdout",
       "text": [
        "\n",
        "(0.68428184281842819, 1302)"
       ]
      },
      {
       "output_type": "stream",
       "stream": "stdout",
       "text": [
        "\n",
        "(0.66802168021680219, 1352)"
       ]
      },
      {
       "output_type": "stream",
       "stream": "stdout",
       "text": [
        "\n",
        "(0.66802168021680219, 1402)"
       ]
      },
      {
       "output_type": "stream",
       "stream": "stdout",
       "text": [
        "\n",
        "(0.66802168021680219, 1452)"
       ]
      },
      {
       "output_type": "stream",
       "stream": "stdout",
       "text": [
        "\n",
        "(0.65921409214092141, 2)"
       ]
      },
      {
       "output_type": "stream",
       "stream": "stdout",
       "text": [
        "\n",
        "(0.69241192411924124, 52)"
       ]
      },
      {
       "output_type": "stream",
       "stream": "stdout",
       "text": [
        "\n",
        "(0.70189701897018975, 102)"
       ]
      },
      {
       "output_type": "stream",
       "stream": "stdout",
       "text": [
        "\n",
        "(0.714769647696477, 152)"
       ]
      },
      {
       "output_type": "stream",
       "stream": "stdout",
       "text": [
        "\n",
        "(0.72086720867208676, 202)"
       ]
      },
      {
       "output_type": "stream",
       "stream": "stdout",
       "text": [
        "\n",
        "(0.72764227642276424, 252)"
       ]
      },
      {
       "output_type": "stream",
       "stream": "stdout",
       "text": [
        "\n",
        "(0.72831978319783197, 302)"
       ]
      },
      {
       "output_type": "stream",
       "stream": "stdout",
       "text": [
        "\n",
        "(0.74051490514905149, 352)"
       ]
      },
      {
       "output_type": "stream",
       "stream": "stdout",
       "text": [
        "\n",
        "(0.73983739837398377, 402)"
       ]
      },
      {
       "output_type": "stream",
       "stream": "stdout",
       "text": [
        "\n",
        "(0.73983739837398377, 452)"
       ]
      },
      {
       "output_type": "stream",
       "stream": "stdout",
       "text": [
        "\n",
        "(0.74119241192411922, 502)"
       ]
      },
      {
       "output_type": "stream",
       "stream": "stdout",
       "text": [
        "\n",
        "(0.73780487804878048, 552)"
       ]
      },
      {
       "output_type": "stream",
       "stream": "stdout",
       "text": [
        "\n",
        "(0.73780487804878048, 602)"
       ]
      },
      {
       "output_type": "stream",
       "stream": "stdout",
       "text": [
        "\n",
        "(0.7289972899728997, 652)"
       ]
      },
      {
       "output_type": "stream",
       "stream": "stdout",
       "text": [
        "\n",
        "(0.7289972899728997, 702)"
       ]
      },
      {
       "output_type": "stream",
       "stream": "stdout",
       "text": [
        "\n",
        "(0.72560975609756095, 752)"
       ]
      },
      {
       "output_type": "stream",
       "stream": "stdout",
       "text": [
        "\n",
        "(0.72560975609756095, 802)"
       ]
      },
      {
       "output_type": "stream",
       "stream": "stdout",
       "text": [
        "\n",
        "(0.72222222222222221, 852)"
       ]
      },
      {
       "output_type": "stream",
       "stream": "stdout",
       "text": [
        "\n",
        "(0.72222222222222221, 902)"
       ]
      },
      {
       "output_type": "stream",
       "stream": "stdout",
       "text": [
        "\n",
        "(0.72222222222222221, 952)"
       ]
      },
      {
       "output_type": "stream",
       "stream": "stdout",
       "text": [
        "\n",
        "(0.71409214092140927, 1002)"
       ]
      },
      {
       "output_type": "stream",
       "stream": "stdout",
       "text": [
        "\n",
        "(0.70731707317073167, 1052)"
       ]
      },
      {
       "output_type": "stream",
       "stream": "stdout",
       "text": [
        "\n",
        "(0.70731707317073167, 1102)"
       ]
      },
      {
       "output_type": "stream",
       "stream": "stdout",
       "text": [
        "\n",
        "(0.70731707317073167, 1152)"
       ]
      },
      {
       "output_type": "stream",
       "stream": "stdout",
       "text": [
        "\n",
        "(0.70731707317073167, 1202)"
       ]
      },
      {
       "output_type": "stream",
       "stream": "stdout",
       "text": [
        "\n",
        "(0.70731707317073167, 1252)"
       ]
      },
      {
       "output_type": "stream",
       "stream": "stdout",
       "text": [
        "\n",
        "(0.69241192411924124, 1302)"
       ]
      },
      {
       "output_type": "stream",
       "stream": "stdout",
       "text": [
        "\n",
        "(0.69241192411924124, 1352)"
       ]
      },
      {
       "output_type": "stream",
       "stream": "stdout",
       "text": [
        "\n",
        "(0.68495934959349591, 1402)"
       ]
      },
      {
       "output_type": "stream",
       "stream": "stdout",
       "text": [
        "\n",
        "(0.68495934959349591, 1452)"
       ]
      },
      {
       "output_type": "stream",
       "stream": "stdout",
       "text": [
        "\n",
        "(0.67005420054200537, 2)"
       ]
      },
      {
       "output_type": "stream",
       "stream": "stdout",
       "text": [
        "\n",
        "(0.71070460704607041, 52)"
       ]
      },
      {
       "output_type": "stream",
       "stream": "stdout",
       "text": [
        "\n",
        "(0.72289972899728994, 102)"
       ]
      },
      {
       "output_type": "stream",
       "stream": "stdout",
       "text": [
        "\n",
        "(0.71951219512195119, 152)"
       ]
      },
      {
       "output_type": "stream",
       "stream": "stdout",
       "text": [
        "\n",
        "(0.71815718157181574, 202)"
       ]
      },
      {
       "output_type": "stream",
       "stream": "stdout",
       "text": [
        "\n",
        "(0.72018970189701892, 252)"
       ]
      },
      {
       "output_type": "stream",
       "stream": "stdout",
       "text": [
        "\n",
        "(0.7289972899728997, 302)"
       ]
      },
      {
       "output_type": "stream",
       "stream": "stdout",
       "text": [
        "\n",
        "(0.72628726287262868, 352)"
       ]
      },
      {
       "output_type": "stream",
       "stream": "stdout",
       "text": [
        "\n",
        "(0.72222222222222221, 402)"
       ]
      },
      {
       "output_type": "stream",
       "stream": "stdout",
       "text": [
        "\n",
        "(0.72018970189701892, 452)"
       ]
      },
      {
       "output_type": "stream",
       "stream": "stdout",
       "text": [
        "\n",
        "(0.71680216802168017, 502)"
       ]
      },
      {
       "output_type": "stream",
       "stream": "stdout",
       "text": [
        "\n",
        "(0.714769647696477, 552)"
       ]
      },
      {
       "output_type": "stream",
       "stream": "stdout",
       "text": [
        "\n",
        "(0.70934959349593496, 602)"
       ]
      },
      {
       "output_type": "stream",
       "stream": "stdout",
       "text": [
        "\n",
        "(0.70799457994579951, 652)"
       ]
      },
      {
       "output_type": "stream",
       "stream": "stdout",
       "text": [
        "\n",
        "(0.71070460704607041, 702)"
       ]
      },
      {
       "output_type": "stream",
       "stream": "stdout",
       "text": [
        "\n",
        "(0.71070460704607041, 752)"
       ]
      },
      {
       "output_type": "stream",
       "stream": "stdout",
       "text": [
        "\n",
        "(0.70663956639566394, 802)"
       ]
      },
      {
       "output_type": "stream",
       "stream": "stdout",
       "text": [
        "\n",
        "(0.70663956639566394, 852)"
       ]
      },
      {
       "output_type": "stream",
       "stream": "stdout",
       "text": [
        "\n",
        "(0.70663956639566394, 902)"
       ]
      },
      {
       "output_type": "stream",
       "stream": "stdout",
       "text": [
        "\n",
        "(0.70663956639566394, 952)"
       ]
      },
      {
       "output_type": "stream",
       "stream": "stdout",
       "text": [
        "\n",
        "(0.70663956639566394, 1002)"
       ]
      },
      {
       "output_type": "stream",
       "stream": "stdout",
       "text": [
        "\n",
        "(0.70460704607046065, 1052)"
       ]
      },
      {
       "output_type": "stream",
       "stream": "stdout",
       "text": [
        "\n",
        "(0.69308943089430897, 1102)"
       ]
      },
      {
       "output_type": "stream",
       "stream": "stdout",
       "text": [
        "\n",
        "(0.69308943089430897, 1152)"
       ]
      },
      {
       "output_type": "stream",
       "stream": "stdout",
       "text": [
        "\n",
        "(0.68089430894308944, 1202)"
       ]
      },
      {
       "output_type": "stream",
       "stream": "stdout",
       "text": [
        "\n",
        "(0.68089430894308944, 1252)"
       ]
      },
      {
       "output_type": "stream",
       "stream": "stdout",
       "text": [
        "\n",
        "(0.68089430894308944, 1302)"
       ]
      },
      {
       "output_type": "stream",
       "stream": "stdout",
       "text": [
        "\n",
        "(0.67208672086720866, 1352)"
       ]
      },
      {
       "output_type": "stream",
       "stream": "stdout",
       "text": [
        "\n",
        "(0.67208672086720866, 1402)"
       ]
      },
      {
       "output_type": "stream",
       "stream": "stdout",
       "text": [
        "\n",
        "(0.67208672086720866, 1452)"
       ]
      },
      {
       "output_type": "stream",
       "stream": "stdout",
       "text": [
        "\n",
        "(0.65853658536585369, 2)"
       ]
      },
      {
       "output_type": "stream",
       "stream": "stdout",
       "text": [
        "\n",
        "(0.70392953929539293, 52)"
       ]
      },
      {
       "output_type": "stream",
       "stream": "stdout",
       "text": [
        "\n",
        "(0.71138211382113825, 102)"
       ]
      },
      {
       "output_type": "stream",
       "stream": "stdout",
       "text": [
        "\n",
        "(0.71612466124661245, 152)"
       ]
      },
      {
       "output_type": "stream",
       "stream": "stdout",
       "text": [
        "\n",
        "(0.71951219512195119, 202)"
       ]
      },
      {
       "output_type": "stream",
       "stream": "stdout",
       "text": [
        "\n",
        "(0.73238482384823844, 252)"
       ]
      },
      {
       "output_type": "stream",
       "stream": "stdout",
       "text": [
        "\n",
        "(0.73170731707317072, 302)"
       ]
      },
      {
       "output_type": "stream",
       "stream": "stdout",
       "text": [
        "\n",
        "(0.72560975609756095, 352)"
       ]
      },
      {
       "output_type": "stream",
       "stream": "stdout",
       "text": [
        "\n",
        "(0.72831978319783197, 402)"
       ]
      },
      {
       "output_type": "stream",
       "stream": "stdout",
       "text": [
        "\n",
        "(0.72628726287262868, 452)"
       ]
      },
      {
       "output_type": "stream",
       "stream": "stdout",
       "text": [
        "\n",
        "(0.72560975609756095, 502)"
       ]
      },
      {
       "output_type": "stream",
       "stream": "stdout",
       "text": [
        "\n",
        "(0.71883468834688347, 552)"
       ]
      },
      {
       "output_type": "stream",
       "stream": "stdout",
       "text": [
        "\n",
        "(0.71747967479674801, 602)"
       ]
      },
      {
       "output_type": "stream",
       "stream": "stdout",
       "text": [
        "\n",
        "(0.71544715447154472, 652)"
       ]
      },
      {
       "output_type": "stream",
       "stream": "stdout",
       "text": [
        "\n",
        "(0.71205962059620598, 702)"
       ]
      },
      {
       "output_type": "stream",
       "stream": "stdout",
       "text": [
        "\n",
        "(0.71205962059620598, 752)"
       ]
      },
      {
       "output_type": "stream",
       "stream": "stdout",
       "text": [
        "\n",
        "(0.71205962059620598, 802)"
       ]
      },
      {
       "output_type": "stream",
       "stream": "stdout",
       "text": [
        "\n",
        "(0.7127371273712737, 852)"
       ]
      },
      {
       "output_type": "stream",
       "stream": "stdout",
       "text": [
        "\n",
        "(0.7127371273712737, 902)"
       ]
      },
      {
       "output_type": "stream",
       "stream": "stdout",
       "text": [
        "\n",
        "(0.7127371273712737, 952)"
       ]
      },
      {
       "output_type": "stream",
       "stream": "stdout",
       "text": [
        "\n",
        "(0.7127371273712737, 1002)"
       ]
      },
      {
       "output_type": "stream",
       "stream": "stdout",
       "text": [
        "\n",
        "(0.7127371273712737, 1052)"
       ]
      },
      {
       "output_type": "stream",
       "stream": "stdout",
       "text": [
        "\n",
        "(0.70934959349593496, 1102)"
       ]
      },
      {
       "output_type": "stream",
       "stream": "stdout",
       "text": [
        "\n",
        "(0.70731707317073167, 1152)"
       ]
      },
      {
       "output_type": "stream",
       "stream": "stdout",
       "text": [
        "\n",
        "(0.70731707317073167, 1202)"
       ]
      },
      {
       "output_type": "stream",
       "stream": "stdout",
       "text": [
        "\n",
        "(0.70731707317073167, 1252)"
       ]
      },
      {
       "output_type": "stream",
       "stream": "stdout",
       "text": [
        "\n",
        "(0.68902439024390238, 1302)"
       ]
      },
      {
       "output_type": "stream",
       "stream": "stdout",
       "text": [
        "\n",
        "(0.68902439024390238, 1352)"
       ]
      },
      {
       "output_type": "stream",
       "stream": "stdout",
       "text": [
        "\n",
        "(0.68902439024390238, 1402)"
       ]
      },
      {
       "output_type": "stream",
       "stream": "stdout",
       "text": [
        "\n",
        "(0.70867208672086723, 1452)"
       ]
      },
      {
       "output_type": "stream",
       "stream": "stdout",
       "text": [
        "\n",
        "(0.67140921409214094, 2)"
       ]
      },
      {
       "output_type": "stream",
       "stream": "stdout",
       "text": [
        "\n",
        "(0.7127371273712737, 52)"
       ]
      },
      {
       "output_type": "stream",
       "stream": "stdout",
       "text": [
        "\n",
        "(0.70392953929539293, 102)"
       ]
      },
      {
       "output_type": "stream",
       "stream": "stdout",
       "text": [
        "\n",
        "(0.69783197831978316, 152)"
       ]
      },
      {
       "output_type": "stream",
       "stream": "stdout",
       "text": [
        "\n",
        "(0.69579945799457998, 202)"
       ]
      },
      {
       "output_type": "stream",
       "stream": "stdout",
       "text": [
        "\n",
        "(0.69376693766937669, 252)"
       ]
      },
      {
       "output_type": "stream",
       "stream": "stdout",
       "text": [
        "\n",
        "(0.69647696476964771, 302)"
       ]
      },
      {
       "output_type": "stream",
       "stream": "stdout",
       "text": [
        "\n",
        "(0.69783197831978316, 352)"
       ]
      },
      {
       "output_type": "stream",
       "stream": "stdout",
       "text": [
        "\n",
        "(0.69783197831978316, 402)"
       ]
      },
      {
       "output_type": "stream",
       "stream": "stdout",
       "text": [
        "\n",
        "(0.69783197831978316, 452)"
       ]
      },
      {
       "output_type": "stream",
       "stream": "stdout",
       "text": [
        "\n",
        "(0.69715447154471544, 502)"
       ]
      },
      {
       "output_type": "stream",
       "stream": "stdout",
       "text": [
        "\n",
        "(0.69376693766937669, 552)"
       ]
      },
      {
       "output_type": "stream",
       "stream": "stdout",
       "text": [
        "\n",
        "(0.69376693766937669, 602)"
       ]
      },
      {
       "output_type": "stream",
       "stream": "stdout",
       "text": [
        "\n",
        "(0.69376693766937669, 652)"
       ]
      },
      {
       "output_type": "stream",
       "stream": "stdout",
       "text": [
        "\n",
        "(0.68699186991869921, 702)"
       ]
      },
      {
       "output_type": "stream",
       "stream": "stdout",
       "text": [
        "\n",
        "(0.6822493224932249, 752)"
       ]
      },
      {
       "output_type": "stream",
       "stream": "stdout",
       "text": [
        "\n",
        "(0.6822493224932249, 802)"
       ]
      },
      {
       "output_type": "stream",
       "stream": "stdout",
       "text": [
        "\n",
        "(0.68157181571815717, 852)"
       ]
      },
      {
       "output_type": "stream",
       "stream": "stdout",
       "text": [
        "\n",
        "(0.68157181571815717, 902)"
       ]
      },
      {
       "output_type": "stream",
       "stream": "stdout",
       "text": [
        "\n",
        "(0.68157181571815717, 952)"
       ]
      },
      {
       "output_type": "stream",
       "stream": "stdout",
       "text": [
        "\n",
        "(0.68157181571815717, 1002)"
       ]
      },
      {
       "output_type": "stream",
       "stream": "stdout",
       "text": [
        "\n",
        "(0.68157181571815717, 1052)"
       ]
      },
      {
       "output_type": "stream",
       "stream": "stdout",
       "text": [
        "\n",
        "(0.68157181571815717, 1102)"
       ]
      },
      {
       "output_type": "stream",
       "stream": "stdout",
       "text": [
        "\n",
        "(0.66937669376693765, 1152)"
       ]
      },
      {
       "output_type": "stream",
       "stream": "stdout",
       "text": [
        "\n",
        "(0.66937669376693765, 1202)"
       ]
      },
      {
       "output_type": "stream",
       "stream": "stdout",
       "text": [
        "\n",
        "(0.66666666666666663, 1252)"
       ]
      },
      {
       "output_type": "stream",
       "stream": "stdout",
       "text": [
        "\n",
        "(0.66666666666666663, 1302)"
       ]
      },
      {
       "output_type": "stream",
       "stream": "stdout",
       "text": [
        "\n",
        "(0.66666666666666663, 1352)"
       ]
      },
      {
       "output_type": "stream",
       "stream": "stdout",
       "text": [
        "\n",
        "(0.66666666666666663, 1402)"
       ]
      },
      {
       "output_type": "stream",
       "stream": "stdout",
       "text": [
        "\n",
        "(0.66666666666666663, 1452)"
       ]
      },
      {
       "output_type": "stream",
       "stream": "stdout",
       "text": [
        "\n"
       ]
      }
     ],
     "prompt_number": 31
    },
    {
     "cell_type": "code",
     "collapsed": false,
     "input": [
      "df_train.columns"
     ],
     "language": "python",
     "metadata": {},
     "outputs": [
      {
       "metadata": {},
       "output_type": "pyout",
       "prompt_number": 32,
       "text": [
        "Index([u'rating', u'freq0', u'freq1', u'freq2', u'freq3', u'freq4', u'tfidf0', u'tfidf1', u'tfidf2', u'tfidf3', u'tfidf4', u'exclamationPoints', u'innerPunctuation', u'numQuestMarks', u'avgWordLength', u'numWords', u'isFirstPerson', u'numAdj', u'numConj', u'numDet', u'numOtherNoun', u'numParticiple', u'numPastVerb', u'numPresVerb', u'numPronouns', u'numPropNoun', u'new_zealand', u'arthous', u'hugh_grant', u'pardon', u'woodi', u'hatr', u'foul', u'poorli', u'elvi', u'voicesfromtheothersid', u'sleev', u'nurseri', u'sleep', u'criticproof', u'upsid', u'the_tim', u'not_believ', u'is_it', u'directtovideodvd', u'payoff', u'sling_blad', u'accus', u'accur', u'marilyn_freeman', u'cassavet', u'spew', u'sorri', u'welltrod', u'not_singlemind', u't_rrb', u'postmodern', u'farflung', u'xtc', u'buddi', u'kidman', u'selfindulg', u'sputter', u'lord', u'slowest', u'pride', u'sway', u'whack', u'rrb_much', u'axel_hellsteniu', u'merchant', u'boston_publ', u'nonexploit', u'risk', u'appal', u'gobbler', u'vastli', u'void', u'rise', u'lurk', u'voic', u'ace_ventura', u'manic', u'smack', u'closeup', u'yellow', u'govern', u'watereddown', u'new_best', u'slather', u'vast', u'peerlessli', u'school', u'flashi', u'parrot', u'daydream', u'wooden', u'showcas', u'howlingli', u'frank_tashlin', ...], dtype='object')"
       ]
      }
     ],
     "prompt_number": 32
    },
    {
     "cell_type": "code",
     "collapsed": false,
     "input": [
      "# hyper_check2=hyper_check.copy()\n",
      "# inJSON= hyper_check\n",
      "# outputFName=train_path+\"min_samples_split_cross_validation_with_words.json\"\n",
      "# outJSON=open(outputFName, \"w\")\n",
      "# json.dump(inJSON, outJSON)\n",
      "# outJSON.close()"
     ],
     "language": "python",
     "metadata": {},
     "outputs": [],
     "prompt_number": 33
    },
    {
     "cell_type": "code",
     "collapsed": false,
     "input": [
      "inputFName=train_path+\"min_samples_split_cross_validation_with_words.json\"\n",
      "inFile = open(inputFName, \"r\")\n",
      "hyper_check=json.load(inFile)"
     ],
     "language": "python",
     "metadata": {},
     "outputs": [],
     "prompt_number": 34
    },
    {
     "cell_type": "code",
     "collapsed": false,
     "input": [
      "fig, ax = plt.subplots(figsize=(8,6))\n",
      "n_iter, test_size=5, 0.20\n",
      "\n",
      "hyper_check_transposed=np.array([hyper_check[elt] for elt in hyper_check.keys() if not elt=='hyper_range']).T\n",
      "x=np.array(hyper_check['hyper_range'])\n",
      "y_array=hyper_check_transposed\n",
      "y=np.mean(y_array,axis=1)\n",
      "\n",
      "yerr =np.std(y_array,axis=1)\n",
      "# First illustrate basic pyplot interface, using defaults where possible.\n",
      "if len(y_array[0])==1:\n",
      "    plt.plot(x, y,'o')\n",
      "else:\n",
      "    plt.errorbar(x, y, yerr=yerr,fmt='o')\n",
      "ax.set_xlim(min(x)-10,max(x)+10)\n",
      "ax.set_title(\"Decision tree %i fold cross-validation,\\n.~3500 words as features\"%(n_iter))\n",
      "ax.set_xlabel('The minimum number of samples required to split an internal node')\n",
      "ax.set_ylabel('Cross-validation accuracy')\n",
      "ax.text(1100, .66, r'number of samples=%i'%(total_len))\n",
      "\n"
     ],
     "language": "python",
     "metadata": {},
     "outputs": [
      {
       "metadata": {},
       "output_type": "pyout",
       "prompt_number": 43,
       "text": [
        "<matplotlib.text.Text at 0x7048610>"
       ]
      }
     ],
     "prompt_number": 43
    },
    {
     "cell_type": "heading",
     "level": 1,
     "metadata": {},
     "source": [
      "Final Test for the Model- with Words\n"
     ]
    },
    {
     "cell_type": "code",
     "collapsed": false,
     "input": [
      "best_hyper=350\n",
      "\n",
      "\n",
      "my_path_keys=['train','test'] # should be in this order\n",
      "my_paths=[train_path,test_path]\n",
      "\n",
      "\n",
      "results=create_Train_Test_data(my_paths,my_path_keys)\n",
      "results.keys(),results['test'].shape,results['train'].shape\n",
      "\n",
      "results['test'].shape,results['train'].shape\n",
      "df_train=results['train']\n",
      "df_test=results['test']"
     ],
     "language": "python",
     "metadata": {},
     "outputs": [],
     "prompt_number": 40
    },
    {
     "cell_type": "code",
     "collapsed": false,
     "input": [
      "# x=np.array([0,1,2,3,4,5])\n",
      "# hist(df_train['rating'],normed=True,alpha=0.4)\n",
      "# hist(df_test['rating'],color='r',normed=True,alpha=0.2)"
     ],
     "language": "python",
     "metadata": {},
     "outputs": [],
     "prompt_number": 54
    },
    {
     "cell_type": "code",
     "collapsed": false,
     "input": [
      "\n",
      "df_dictionary= transform_csv(df_train, target_col='rating')\n",
      "(X_train, y_train)=transform_sklearn_dictionary(df_dictionary)\n",
      "\n",
      "df_dictionary= transform_csv(df_test, target_col='rating')\n",
      "(X_test, y_test)=transform_sklearn_dictionary(df_dictionary)\n",
      "\n",
      "print('start DecisionTreeClassifier')\n",
      "clf = DecisionTreeClassifier(random_state=0,min_samples_split=best_hyper)\n",
      "clf = clf.fit(X_train, y_train)\n",
      "\n",
      "print(clf.score(X_test,y_test))\n",
      "\n"
     ],
     "language": "python",
     "metadata": {},
     "outputs": [
      {
       "output_type": "stream",
       "stream": "stdout",
       "text": [
        "start DecisionTreeClassifier\n",
        "0.673579109063"
       ]
      },
      {
       "output_type": "stream",
       "stream": "stdout",
       "text": [
        "\n"
       ]
      }
     ],
     "prompt_number": 46
    },
    {
     "cell_type": "code",
     "collapsed": false,
     "input": [],
     "language": "python",
     "metadata": {},
     "outputs": [],
     "prompt_number": 45
    },
    {
     "cell_type": "heading",
     "level": 1,
     "metadata": {},
     "source": [
      "Confusion Matrix"
     ]
    },
    {
     "cell_type": "code",
     "collapsed": false,
     "input": [
      "from sklearn import metrics\n",
      "print metrics.confusion_matrix(clf.predict(X_test), y_test)"
     ],
     "language": "python",
     "metadata": {},
     "outputs": [
      {
       "output_type": "stream",
       "stream": "stdout",
       "text": [
        "[[ 49   0   0   2   0]\n",
        " [ 57 293  60  54  24]\n",
        " [ 13  36 170  12  14]\n",
        " [ 16  27  43 265  49]\n",
        " [  2   6   3   7 100]]\n"
       ]
      }
     ],
     "prompt_number": 47
    },
    {
     "cell_type": "code",
     "collapsed": false,
     "input": [],
     "language": "python",
     "metadata": {},
     "outputs": [],
     "prompt_number": 47
    },
    {
     "cell_type": "heading",
     "level": 1,
     "metadata": {},
     "source": [
      "Importances"
     ]
    },
    {
     "cell_type": "code",
     "collapsed": false,
     "input": [
      "fig, ax = plt.subplots(figsize=(8,6))\n",
      "\n",
      "\n",
      "most_important=numpy.argsort(clf.feature_importances_)[-10:][::-1]\n",
      "most_important_list=list(df_train.columns[most_important+1])\n",
      "\n",
      "\n",
      "#ax.barh(np.arange(1,21,1),clf.feature_importances_[most_important])\n",
      "ax.set_title(\"Feature importances\")\n",
      "\n",
      "ax.barh(np.arange(10), numpy.sort(clf.feature_importances_)[-10:],color=\"r\", align=\"center\")\n",
      "ax.set_yticks(range(10))\n",
      "ax.set_ylim([-1, 10])\n",
      "ax.set_yticklabels(df_train.columns[(numpy.argsort(clf.feature_importances_)[-10:])+1])\n",
      "ax.text(0.07,0,'best test score: %.2f'%(0.67))\n",
      "feature_weights_without_words={}\n",
      "feature_weights_without_words['features']=list(df_train.columns[(numpy.argsort(clf.feature_importances_)[::-1])+1])\n",
      "feature_weights_without_words['weight']=list(numpy.sort(clf.feature_importances_)[::-1])\n",
      "\n",
      "\n",
      "\n",
      "outputFName=train_path+\"feature_weights_with_words.json\"\n",
      "outJSON=open(outputFName, \"w\")\n",
      "json.dump(feature_weights_without_words, outJSON)\n",
      "outJSON.close()\n",
      "\n",
      "inputFName=train_path+\"feature_weights_with_words.json\"\n",
      "inFile = open(inputFName, \"r\")\n",
      "feature_weights_without_words=json.load(inFile)\n",
      "\n"
     ],
     "language": "python",
     "metadata": {},
     "outputs": [],
     "prompt_number": 48
    },
    {
     "cell_type": "heading",
     "level": 1,
     "metadata": {},
     "source": [
      "Plot Tree"
     ]
    },
    {
     "cell_type": "code",
     "collapsed": false,
     "input": [
      "import pydot\n",
      "from sklearn import tree\n",
      "from sklearn.externals.six import StringIO\n",
      "\n",
      "dot_data = StringIO() \n",
      "tree.export_graphviz(clf, out_file=dot_data) \n",
      "graph = pydot.graph_from_dot_data(dot_data.getvalue()) \n",
      "graph.write_pdf(train_path+\"with_words.pdf\") "
     ],
     "language": "python",
     "metadata": {},
     "outputs": [
      {
       "metadata": {},
       "output_type": "pyout",
       "prompt_number": 50,
       "text": [
        "True"
       ]
      }
     ],
     "prompt_number": 50
    },
    {
     "cell_type": "heading",
     "level": 1,
     "metadata": {},
     "source": [
      "Random Forest"
     ]
    },
    {
     "cell_type": "code",
     "collapsed": false,
     "input": [],
     "language": "python",
     "metadata": {},
     "outputs": [
      {
       "metadata": {},
       "output_type": "pyout",
       "prompt_number": 96,
       "text": [
        "0.77235772357723576"
       ]
      }
     ],
     "prompt_number": 96
    },
    {
     "cell_type": "heading",
     "level": 2,
     "metadata": {},
     "source": [
      "Cross-Validation"
     ]
    },
    {
     "cell_type": "heading",
     "level": 3,
     "metadata": {},
     "source": [
      "Number of trees"
     ]
    },
    {
     "cell_type": "code",
     "collapsed": false,
     "input": [
      "total_len=len(json.load(open(train_path+\"isFirstPerson.json\", \"r\")))\n",
      "hyper_range=np.array([10,20,50,100,200,300,500])\n",
      "hyper_range"
     ],
     "language": "python",
     "metadata": {},
     "outputs": [
      {
       "metadata": {},
       "output_type": "pyout",
       "prompt_number": 58,
       "text": [
        "array([ 10,  20,  50, 100, 200, 300, 500])"
       ]
      }
     ],
     "prompt_number": 58
    },
    {
     "cell_type": "code",
     "collapsed": false,
     "input": [
      "rs=cross_validation.ShuffleSplit(total_len, n_iter=5, test_size=0.20)\n",
      "\n",
      "clf_forest = RandomForestClassifier(oob_score=False,max_features=int(np.sqrt(total_len)))\n",
      "\n",
      "hyper_check={}\n",
      "my_iter=0\n",
      "for train_index, test_index in rs:\n",
      "    my_iter+=1\n",
      "    myindex=(train_index,test_index )\n",
      "    my_path_keys=['train','test'] # should be in this order\n",
      "    my_paths=[cross_train_path,cross_test_path]\n",
      "    results=create_Train_Test_data(my_paths,my_path_keys,myindex=myindex)\n",
      "    results.keys(),results['test'].shape,results['train'].shape\n",
      "\n",
      "    results['test'].shape,results['train'].shape\n",
      "    df_train=results['train']\n",
      "    df_test=results['test']\n",
      "    df_dictionary= transform_csv(df_train, target_col='rating')\n",
      "    (X_train, y_train)=transform_sklearn_dictionary(df_dictionary)\n",
      "\n",
      "    df_dictionary= transform_csv(df_test, target_col='rating')\n",
      "    (X_test, y_test)=transform_sklearn_dictionary(df_dictionary)\n",
      "    validation_errors=[]\n",
      "    \n",
      "    for my_hyper in hyper_range:\n",
      "        clf_forest.set_params(n_estimators=my_hyper)\n",
      "        clf_forest= clf_forest.fit(X_train, y_train)\n",
      "        validation_errors.append(clf_forest.score(X_test,y_test))\n",
      "        print (clf_forest.score(X_test,y_test),my_hyper )\n",
      "        \n",
      "    hyper_check['my_iter'+str(my_iter)]=validation_errors\n",
      "hyper_check['hyper_range']=list(hyper_range)"
     ],
     "language": "python",
     "metadata": {},
     "outputs": [
      {
       "output_type": "stream",
       "stream": "stdout",
       "text": [
        "(0.73644986449864502, 10)\n",
        "(0.75609756097560976, 20)"
       ]
      },
      {
       "output_type": "stream",
       "stream": "stdout",
       "text": [
        "\n",
        "(0.78319783197831983, 50)"
       ]
      },
      {
       "output_type": "stream",
       "stream": "stdout",
       "text": [
        "\n",
        "(0.78658536585365857, 100)"
       ]
      },
      {
       "output_type": "stream",
       "stream": "stdout",
       "text": [
        "\n",
        "(0.78861788617886175, 200)"
       ]
      },
      {
       "output_type": "stream",
       "stream": "stdout",
       "text": [
        "\n",
        "(0.78319783197831983, 300)"
       ]
      },
      {
       "output_type": "stream",
       "stream": "stdout",
       "text": [
        "\n",
        "(0.78590785907859073, 500)"
       ]
      },
      {
       "output_type": "stream",
       "stream": "stdout",
       "text": [
        "\n",
        "(0.73035230352303526, 10)"
       ]
      },
      {
       "output_type": "stream",
       "stream": "stdout",
       "text": [
        "\n",
        "(0.77235772357723576, 20)"
       ]
      },
      {
       "output_type": "stream",
       "stream": "stdout",
       "text": [
        "\n",
        "(0.78116531165311653, 50)"
       ]
      },
      {
       "output_type": "stream",
       "stream": "stdout",
       "text": [
        "\n",
        "(0.79539295392953935, 100)"
       ]
      },
      {
       "output_type": "stream",
       "stream": "stdout",
       "text": [
        "\n",
        "(0.801490514905149, 200)"
       ]
      },
      {
       "output_type": "stream",
       "stream": "stdout",
       "text": [
        "\n",
        "(0.7967479674796748, 300)"
       ]
      },
      {
       "output_type": "stream",
       "stream": "stdout",
       "text": [
        "\n",
        "(0.79878048780487809, 500)"
       ]
      },
      {
       "output_type": "stream",
       "stream": "stdout",
       "text": [
        "\n",
        "(0.71544715447154472, 10)"
       ]
      },
      {
       "output_type": "stream",
       "stream": "stdout",
       "text": [
        "\n",
        "(0.75609756097560976, 20)"
       ]
      },
      {
       "output_type": "stream",
       "stream": "stdout",
       "text": [
        "\n",
        "(0.7757452574525745, 50)"
       ]
      },
      {
       "output_type": "stream",
       "stream": "stdout",
       "text": [
        "\n",
        "(0.77777777777777779, 100)"
       ]
      },
      {
       "output_type": "stream",
       "stream": "stdout",
       "text": [
        "\n",
        "(0.7872628726287263, 200)"
       ]
      },
      {
       "output_type": "stream",
       "stream": "stdout",
       "text": [
        "\n",
        "(0.78590785907859073, 300)"
       ]
      },
      {
       "output_type": "stream",
       "stream": "stdout",
       "text": [
        "\n",
        "(0.77913279132791324, 500)"
       ]
      },
      {
       "output_type": "stream",
       "stream": "stdout",
       "text": [
        "\n",
        "(0.74593495934959353, 10)"
       ]
      },
      {
       "output_type": "stream",
       "stream": "stdout",
       "text": [
        "\n",
        "(0.76490514905149054, 20)"
       ]
      },
      {
       "output_type": "stream",
       "stream": "stdout",
       "text": [
        "\n",
        "(0.78794037940379402, 50)"
       ]
      },
      {
       "output_type": "stream",
       "stream": "stdout",
       "text": [
        "\n",
        "(0.78997289972899731, 100)"
       ]
      },
      {
       "output_type": "stream",
       "stream": "stdout",
       "text": [
        "\n",
        "(0.79607046070460707, 200)"
       ]
      },
      {
       "output_type": "stream",
       "stream": "stdout",
       "text": [
        "\n",
        "(0.80420054200542002, 300)"
       ]
      },
      {
       "output_type": "stream",
       "stream": "stdout",
       "text": [
        "\n",
        "(0.801490514905149, 500)"
       ]
      },
      {
       "output_type": "stream",
       "stream": "stdout",
       "text": [
        "\n",
        "(0.72018970189701892, 10)"
       ]
      },
      {
       "output_type": "stream",
       "stream": "stdout",
       "text": [
        "\n",
        "(0.7710027100271003, 20)"
       ]
      },
      {
       "output_type": "stream",
       "stream": "stdout",
       "text": [
        "\n",
        "(0.78861788617886175, 50)"
       ]
      },
      {
       "output_type": "stream",
       "stream": "stdout",
       "text": [
        "\n",
        "(0.80487804878048785, 100)"
       ]
      },
      {
       "output_type": "stream",
       "stream": "stdout",
       "text": [
        "\n",
        "(0.80352303523035229, 200)"
       ]
      },
      {
       "output_type": "stream",
       "stream": "stdout",
       "text": [
        "\n",
        "(0.79878048780487809, 300)"
       ]
      },
      {
       "output_type": "stream",
       "stream": "stdout",
       "text": [
        "\n",
        "(0.79878048780487809, 500)"
       ]
      },
      {
       "output_type": "stream",
       "stream": "stdout",
       "text": [
        "\n"
       ]
      }
     ],
     "prompt_number": 31
    },
    {
     "cell_type": "code",
     "collapsed": false,
     "input": [
      "# hyper_check2=hyper_check.copy()\n",
      "# inJSON= hyper_check\n",
      "# outputFName=train_path+\"random_forest_n_estimators.json\"\n",
      "# outJSON=open(outputFName, \"w\")\n",
      "# json.dump(inJSON, outJSON)\n",
      "# outJSON.close()\n",
      "\n",
      "inputFName=train_path+\"random_forest_n_estimators.json\"\n",
      "inFile = open(inputFName, \"r\")\n",
      "hyper_check=json.load(inFile)\n",
      "hyper_range=hyper_check['hyper_range']\n",
      "hyper_range"
     ],
     "language": "python",
     "metadata": {},
     "outputs": [
      {
       "metadata": {},
       "output_type": "pyout",
       "prompt_number": 59,
       "text": [
        "[10, 20, 50, 100, 200, 300, 500]"
       ]
      }
     ],
     "prompt_number": 59
    },
    {
     "cell_type": "code",
     "collapsed": false,
     "input": [],
     "language": "python",
     "metadata": {},
     "outputs": [],
     "prompt_number": 59
    },
    {
     "cell_type": "code",
     "collapsed": false,
     "input": [
      "n_iter, test_size=5, 0.20\n",
      "fig, ax = plt.subplots(figsize=(8,6))\n",
      "\n",
      "hyper_check_transposed=np.array([hyper_check[elt] for elt in hyper_check.keys() if not elt=='hyper_range']).T\n",
      "x=np.array(hyper_check['hyper_range'])\n",
      "y_array=hyper_check_transposed\n",
      "y=np.mean(y_array,axis=1)\n",
      "\n",
      "yerr =np.std(y_array,axis=1)\n",
      "# First illustrate basic pyplot interface, using defaults where possible.\n",
      "if len(y_array[0])==1:\n",
      "    ax.plot(x, y,'o')\n",
      "else:\n",
      "    plt.errorbar(x, y, yerr=yerr,fmt='o')\n",
      "ax.set_xticks(hyper_range)\n",
      "#ax.set_xticklabels(hyper_range)\n",
      "ax.set_xlim(min(hyper_range)-10,max(hyper_range)+10)\n",
      "ax.set_title(\"Random Forest %i fold cross-validation, test size: %i%%\"%(n_iter, test_size*100))\n",
      "ax.set_xlabel('number of trees')\n",
      "ax.set_ylabel('Cross-validation accuracy')\n",
      "ax.text(300, .72, 'number of samples=%i, \\n  \\\n",
      "number of features=$\\sqrt{number\\, of\\, samples}=$%i'%(total_len, int(np.sqrt(total_len))  ))"
     ],
     "language": "python",
     "metadata": {},
     "outputs": [
      {
       "metadata": {},
       "output_type": "pyout",
       "prompt_number": 60,
       "text": [
        "<matplotlib.text.Text at 0x13ffb090>"
       ]
      }
     ],
     "prompt_number": 60
    },
    {
     "cell_type": "code",
     "collapsed": false,
     "input": [
      "clf_forest"
     ],
     "language": "python",
     "metadata": {},
     "outputs": [
      {
       "metadata": {},
       "output_type": "pyout",
       "prompt_number": 93,
       "text": [
        "RandomForestClassifier(bootstrap=True, compute_importances=None,\n",
        "            criterion='gini', max_depth=None, max_features=85,\n",
        "            max_leaf_nodes=None, min_density=None, min_samples_leaf=1,\n",
        "            min_samples_split=2, n_estimators=500, n_jobs=1,\n",
        "            oob_score=False, random_state=None, verbose=0)"
       ]
      }
     ],
     "prompt_number": 93
    },
    {
     "cell_type": "heading",
     "level": 3,
     "metadata": {},
     "source": [
      "number of features"
     ]
    },
    {
     "cell_type": "code",
     "collapsed": false,
     "input": [
      "total_len=len(json.load(open(train_path+\"isFirstPerson.json\", \"r\")))\n",
      "\n",
      "hyper_range=np.arange(0,1025,25)\n",
      "hyper_range[0]=2\n",
      "hyper_range"
     ],
     "language": "python",
     "metadata": {},
     "outputs": [
      {
       "metadata": {},
       "output_type": "pyout",
       "prompt_number": 61,
       "text": [
        "array([   2,   25,   50,   75,  100,  125,  150,  175,  200,  225,  250,\n",
        "        275,  300,  325,  350,  375,  400,  425,  450,  475,  500,  525,\n",
        "        550,  575,  600,  625,  650,  675,  700,  725,  750,  775,  800,\n",
        "        825,  850,  875,  900,  925,  950,  975, 1000])"
       ]
      }
     ],
     "prompt_number": 61
    },
    {
     "cell_type": "code",
     "collapsed": false,
     "input": [
      "rs=cross_validation.ShuffleSplit(total_len, n_iter=5, test_size=0.20)\n",
      "\n",
      "clf_forest = RandomForestClassifier(n_estimators=200, oob_score=False)\n",
      "\n",
      "hyper_check={}\n",
      "my_iter=0\n",
      "for train_index, test_index in rs:\n",
      "    my_iter+=1\n",
      "    myindex=(train_index,test_index )\n",
      "    my_path_keys=['train','test'] # should be in this order\n",
      "    my_paths=[cross_train_path,cross_test_path]\n",
      "    results=create_Train_Test_data(my_paths,my_path_keys,myindex=myindex)\n",
      "    results.keys(),results['test'].shape,results['train'].shape\n",
      "\n",
      "    results['test'].shape,results['train'].shape\n",
      "    df_train=results['train']\n",
      "    df_test=results['test']\n",
      "    df_dictionary= transform_csv(df_train, target_col='rating')\n",
      "    (X_train, y_train)=transform_sklearn_dictionary(df_dictionary)\n",
      "\n",
      "    df_dictionary= transform_csv(df_test, target_col='rating')\n",
      "    (X_test, y_test)=transform_sklearn_dictionary(df_dictionary)\n",
      "    validation_errors=[]\n",
      "    \n",
      "    for my_hyper in hyper_range:\n",
      "        clf_forest.set_params(max_features=my_hyper)\n",
      "        clf_forest= clf_forest.fit(X_train, y_train)\n",
      "        validation_errors.append(clf_forest.score(X_test,y_test))\n",
      "        print (clf_forest.score(X_test,y_test),my_hyper )\n",
      "        \n",
      "    hyper_check['my_iter'+str(my_iter)]=validation_errors\n",
      "hyper_check['hyper_range']=list(hyper_range)\n",
      "\n",
      "\n"
     ],
     "language": "python",
     "metadata": {},
     "outputs": [
      {
       "output_type": "stream",
       "stream": "stdout",
       "text": [
        "(0.72222222222222221, 2)\n",
        "(0.78319783197831983, 25)"
       ]
      },
      {
       "output_type": "stream",
       "stream": "stdout",
       "text": [
        "\n",
        "(0.78794037940379402, 50)"
       ]
      },
      {
       "output_type": "stream",
       "stream": "stdout",
       "text": [
        "\n",
        "(0.78929539295392959, 75)"
       ]
      },
      {
       "output_type": "stream",
       "stream": "stdout",
       "text": [
        "\n",
        "(0.79471544715447151, 100)"
       ]
      },
      {
       "output_type": "stream",
       "stream": "stdout",
       "text": [
        "\n",
        "(0.78997289972899731, 125)"
       ]
      },
      {
       "output_type": "stream",
       "stream": "stdout",
       "text": [
        "\n",
        "(0.79742547425474253, 150)"
       ]
      },
      {
       "output_type": "stream",
       "stream": "stdout",
       "text": [
        "\n",
        "(0.79742547425474253, 175)"
       ]
      },
      {
       "output_type": "stream",
       "stream": "stdout",
       "text": [
        "\n",
        "(0.79742547425474253, 200)"
       ]
      },
      {
       "output_type": "stream",
       "stream": "stdout",
       "text": [
        "\n",
        "(0.79200542005420049, 225)"
       ]
      },
      {
       "output_type": "stream",
       "stream": "stdout",
       "text": [
        "\n",
        "(0.79200542005420049, 250)"
       ]
      },
      {
       "output_type": "stream",
       "stream": "stdout",
       "text": [
        "\n",
        "(0.78997289972899731, 275)"
       ]
      },
      {
       "output_type": "stream",
       "stream": "stdout",
       "text": [
        "\n",
        "(0.78861788617886175, 300)"
       ]
      },
      {
       "output_type": "stream",
       "stream": "stdout",
       "text": [
        "\n",
        "(0.79200542005420049, 325)"
       ]
      },
      {
       "output_type": "stream",
       "stream": "stdout",
       "text": [
        "\n",
        "(0.79065040650406504, 350)"
       ]
      },
      {
       "output_type": "stream",
       "stream": "stdout",
       "text": [
        "\n",
        "(0.78929539295392959, 375)"
       ]
      },
      {
       "output_type": "stream",
       "stream": "stdout",
       "text": [
        "\n",
        "(0.7872628726287263, 400)"
       ]
      },
      {
       "output_type": "stream",
       "stream": "stdout",
       "text": [
        "\n",
        "(0.79742547425474253, 425)"
       ]
      },
      {
       "output_type": "stream",
       "stream": "stdout",
       "text": [
        "\n",
        "(0.79742547425474253, 450)"
       ]
      },
      {
       "output_type": "stream",
       "stream": "stdout",
       "text": [
        "\n",
        "(0.7967479674796748, 475)"
       ]
      },
      {
       "output_type": "stream",
       "stream": "stdout",
       "text": [
        "\n",
        "(0.7872628726287263, 500)"
       ]
      },
      {
       "output_type": "stream",
       "stream": "stdout",
       "text": [
        "\n",
        "(0.79403794037940378, 525)"
       ]
      },
      {
       "output_type": "stream",
       "stream": "stdout",
       "text": [
        "\n",
        "(0.79065040650406504, 550)"
       ]
      },
      {
       "output_type": "stream",
       "stream": "stdout",
       "text": [
        "\n",
        "(0.79200542005420049, 575)"
       ]
      },
      {
       "output_type": "stream",
       "stream": "stdout",
       "text": [
        "\n",
        "(0.78929539295392959, 600)"
       ]
      },
      {
       "output_type": "stream",
       "stream": "stdout",
       "text": [
        "\n",
        "(0.79268292682926833, 625)"
       ]
      },
      {
       "output_type": "stream",
       "stream": "stdout",
       "text": [
        "\n",
        "(0.78997289972899731, 650)"
       ]
      },
      {
       "output_type": "stream",
       "stream": "stdout",
       "text": [
        "\n",
        "(0.78590785907859073, 675)"
       ]
      },
      {
       "output_type": "stream",
       "stream": "stdout",
       "text": [
        "\n",
        "(0.78387533875338755, 700)"
       ]
      },
      {
       "output_type": "stream",
       "stream": "stdout",
       "text": [
        "\n",
        "(0.78319783197831983, 725)"
       ]
      },
      {
       "output_type": "stream",
       "stream": "stdout",
       "text": [
        "\n",
        "(0.78319783197831983, 750)"
       ]
      },
      {
       "output_type": "stream",
       "stream": "stdout",
       "text": [
        "\n",
        "(0.78929539295392959, 775)"
       ]
      },
      {
       "output_type": "stream",
       "stream": "stdout",
       "text": [
        "\n",
        "(0.78590785907859073, 800)"
       ]
      },
      {
       "output_type": "stream",
       "stream": "stdout",
       "text": [
        "\n",
        "(0.78997289972899731, 825)"
       ]
      },
      {
       "output_type": "stream",
       "stream": "stdout",
       "text": [
        "\n",
        "(0.79065040650406504, 850)"
       ]
      },
      {
       "output_type": "stream",
       "stream": "stdout",
       "text": [
        "\n",
        "(0.785230352303523, 875)"
       ]
      },
      {
       "output_type": "stream",
       "stream": "stdout",
       "text": [
        "\n",
        "(0.78319783197831983, 900)"
       ]
      },
      {
       "output_type": "stream",
       "stream": "stdout",
       "text": [
        "\n",
        "(0.785230352303523, 925)"
       ]
      },
      {
       "output_type": "stream",
       "stream": "stdout",
       "text": [
        "\n",
        "(0.78116531165311653, 950)"
       ]
      },
      {
       "output_type": "stream",
       "stream": "stdout",
       "text": [
        "\n",
        "(0.77845528455284552, 975)"
       ]
      },
      {
       "output_type": "stream",
       "stream": "stdout",
       "text": [
        "\n",
        "(0.78184281842818426, 1000)"
       ]
      },
      {
       "output_type": "stream",
       "stream": "stdout",
       "text": [
        "\n",
        "(0.69444444444444442, 2)"
       ]
      },
      {
       "output_type": "stream",
       "stream": "stdout",
       "text": [
        "\n",
        "(0.75677506775067749, 25)"
       ]
      },
      {
       "output_type": "stream",
       "stream": "stdout",
       "text": [
        "\n",
        "(0.75948509485094851, 50)"
       ]
      },
      {
       "output_type": "stream",
       "stream": "stdout",
       "text": [
        "\n",
        "(0.76490514905149054, 75)"
       ]
      },
      {
       "output_type": "stream",
       "stream": "stdout",
       "text": [
        "\n",
        "(0.77032520325203258, 100)"
       ]
      },
      {
       "output_type": "stream",
       "stream": "stdout",
       "text": [
        "\n",
        "(0.77371273712737132, 125)"
       ]
      },
      {
       "output_type": "stream",
       "stream": "stdout",
       "text": [
        "\n",
        "(0.77303523035230348, 150)"
       ]
      },
      {
       "output_type": "stream",
       "stream": "stdout",
       "text": [
        "\n",
        "(0.76490514905149054, 175)"
       ]
      },
      {
       "output_type": "stream",
       "stream": "stdout",
       "text": [
        "\n",
        "(0.77235772357723576, 200)"
       ]
      },
      {
       "output_type": "stream",
       "stream": "stdout",
       "text": [
        "\n",
        "(0.76897018970189701, 225)"
       ]
      },
      {
       "output_type": "stream",
       "stream": "stdout",
       "text": [
        "\n",
        "(0.77981029810298108, 250)"
       ]
      },
      {
       "output_type": "stream",
       "stream": "stdout",
       "text": [
        "\n",
        "(0.77032520325203258, 275)"
       ]
      },
      {
       "output_type": "stream",
       "stream": "stdout",
       "text": [
        "\n",
        "(0.77777777777777779, 300)"
       ]
      },
      {
       "output_type": "stream",
       "stream": "stdout",
       "text": [
        "\n",
        "(0.77168021680216803, 325)"
       ]
      },
      {
       "output_type": "stream",
       "stream": "stdout",
       "text": [
        "\n",
        "(0.76761517615176156, 350)"
       ]
      },
      {
       "output_type": "stream",
       "stream": "stdout",
       "text": [
        "\n",
        "(0.76964769647696474, 375)"
       ]
      },
      {
       "output_type": "stream",
       "stream": "stdout",
       "text": [
        "\n",
        "(0.76964769647696474, 400)"
       ]
      },
      {
       "output_type": "stream",
       "stream": "stdout",
       "text": [
        "\n",
        "(0.77303523035230348, 425)"
       ]
      },
      {
       "output_type": "stream",
       "stream": "stdout",
       "text": [
        "\n",
        "(0.77506775067750677, 450)"
       ]
      },
      {
       "output_type": "stream",
       "stream": "stdout",
       "text": [
        "\n",
        "(0.76829268292682928, 475)"
       ]
      },
      {
       "output_type": "stream",
       "stream": "stdout",
       "text": [
        "\n",
        "(0.77032520325203258, 500)"
       ]
      },
      {
       "output_type": "stream",
       "stream": "stdout",
       "text": [
        "\n",
        "(0.77032520325203258, 525)"
       ]
      },
      {
       "output_type": "stream",
       "stream": "stdout",
       "text": [
        "\n",
        "(0.76964769647696474, 550)"
       ]
      },
      {
       "output_type": "stream",
       "stream": "stdout",
       "text": [
        "\n",
        "(0.77168021680216803, 575)"
       ]
      },
      {
       "output_type": "stream",
       "stream": "stdout",
       "text": [
        "\n",
        "(0.76897018970189701, 600)"
       ]
      },
      {
       "output_type": "stream",
       "stream": "stdout",
       "text": [
        "\n",
        "(0.76897018970189701, 625)"
       ]
      },
      {
       "output_type": "stream",
       "stream": "stdout",
       "text": [
        "\n",
        "(0.76761517615176156, 650)"
       ]
      },
      {
       "output_type": "stream",
       "stream": "stdout",
       "text": [
        "\n",
        "(0.77032520325203258, 675)"
       ]
      },
      {
       "output_type": "stream",
       "stream": "stdout",
       "text": [
        "\n",
        "(0.76897018970189701, 700)"
       ]
      },
      {
       "output_type": "stream",
       "stream": "stdout",
       "text": [
        "\n",
        "(0.76964769647696474, 725)"
       ]
      },
      {
       "output_type": "stream",
       "stream": "stdout",
       "text": [
        "\n",
        "(0.76422764227642281, 750)"
       ]
      },
      {
       "output_type": "stream",
       "stream": "stdout",
       "text": [
        "\n",
        "(0.76761517615176156, 775)"
       ]
      },
      {
       "output_type": "stream",
       "stream": "stdout",
       "text": [
        "\n",
        "(0.76829268292682928, 800)"
       ]
      },
      {
       "output_type": "stream",
       "stream": "stdout",
       "text": [
        "\n",
        "(0.76219512195121952, 825)"
       ]
      },
      {
       "output_type": "stream",
       "stream": "stdout",
       "text": [
        "\n",
        "(0.76219512195121952, 850)"
       ]
      },
      {
       "output_type": "stream",
       "stream": "stdout",
       "text": [
        "\n",
        "(0.76422764227642281, 875)"
       ]
      },
      {
       "output_type": "stream",
       "stream": "stdout",
       "text": [
        "\n",
        "(0.76084010840108396, 900)"
       ]
      },
      {
       "output_type": "stream",
       "stream": "stdout",
       "text": [
        "\n",
        "(0.76761517615176156, 925)"
       ]
      },
      {
       "output_type": "stream",
       "stream": "stdout",
       "text": [
        "\n",
        "(0.76355013550135498, 950)"
       ]
      },
      {
       "output_type": "stream",
       "stream": "stdout",
       "text": [
        "\n",
        "(0.76084010840108396, 975)"
       ]
      },
      {
       "output_type": "stream",
       "stream": "stdout",
       "text": [
        "\n",
        "(0.76084010840108396, 1000)"
       ]
      },
      {
       "output_type": "stream",
       "stream": "stdout",
       "text": [
        "\n",
        "(0.71951219512195119, 2)"
       ]
      },
      {
       "output_type": "stream",
       "stream": "stdout",
       "text": [
        "\n",
        "(0.77710027100271006, 25)"
       ]
      },
      {
       "output_type": "stream",
       "stream": "stdout",
       "text": [
        "\n",
        "(0.78997289972899731, 50)"
       ]
      },
      {
       "output_type": "stream",
       "stream": "stdout",
       "text": [
        "\n",
        "(0.78794037940379402, 75)"
       ]
      },
      {
       "output_type": "stream",
       "stream": "stdout",
       "text": [
        "\n",
        "(0.78997289972899731, 100)"
       ]
      },
      {
       "output_type": "stream",
       "stream": "stdout",
       "text": [
        "\n",
        "(0.7872628726287263, 125)"
       ]
      },
      {
       "output_type": "stream",
       "stream": "stdout",
       "text": [
        "\n",
        "(0.7967479674796748, 150)"
       ]
      },
      {
       "output_type": "stream",
       "stream": "stdout",
       "text": [
        "\n",
        "(0.78590785907859073, 175)"
       ]
      },
      {
       "output_type": "stream",
       "stream": "stdout",
       "text": [
        "\n",
        "(0.79810298102981025, 200)"
       ]
      },
      {
       "output_type": "stream",
       "stream": "stdout",
       "text": [
        "\n",
        "(0.79200542005420049, 225)"
       ]
      },
      {
       "output_type": "stream",
       "stream": "stdout",
       "text": [
        "\n",
        "(0.79539295392953935, 250)"
       ]
      },
      {
       "output_type": "stream",
       "stream": "stdout",
       "text": [
        "\n",
        "(0.79539295392953935, 275)"
       ]
      },
      {
       "output_type": "stream",
       "stream": "stdout",
       "text": [
        "\n",
        "(0.79471544715447151, 300)"
       ]
      },
      {
       "output_type": "stream",
       "stream": "stdout",
       "text": [
        "\n",
        "(0.79471544715447151, 325)"
       ]
      },
      {
       "output_type": "stream",
       "stream": "stdout",
       "text": [
        "\n",
        "(0.7967479674796748, 350)"
       ]
      },
      {
       "output_type": "stream",
       "stream": "stdout",
       "text": [
        "\n",
        "(0.785230352303523, 375)"
       ]
      },
      {
       "output_type": "stream",
       "stream": "stdout",
       "text": [
        "\n",
        "(0.78929539295392959, 400)"
       ]
      },
      {
       "output_type": "stream",
       "stream": "stdout",
       "text": [
        "\n",
        "(0.79132791327913277, 425)"
       ]
      },
      {
       "output_type": "stream",
       "stream": "stdout",
       "text": [
        "\n",
        "(0.78794037940379402, 450)"
       ]
      },
      {
       "output_type": "stream",
       "stream": "stdout",
       "text": [
        "\n",
        "(0.785230352303523, 475)"
       ]
      },
      {
       "output_type": "stream",
       "stream": "stdout",
       "text": [
        "\n",
        "(0.78929539295392959, 500)"
       ]
      },
      {
       "output_type": "stream",
       "stream": "stdout",
       "text": [
        "\n",
        "(0.78861788617886175, 525)"
       ]
      },
      {
       "output_type": "stream",
       "stream": "stdout",
       "text": [
        "\n",
        "(0.78319783197831983, 550)"
       ]
      },
      {
       "output_type": "stream",
       "stream": "stdout",
       "text": [
        "\n",
        "(0.79539295392953935, 575)"
       ]
      },
      {
       "output_type": "stream",
       "stream": "stdout",
       "text": [
        "\n",
        "(0.78184281842818426, 600)"
       ]
      },
      {
       "output_type": "stream",
       "stream": "stdout",
       "text": [
        "\n",
        "(0.78048780487804881, 625)"
       ]
      },
      {
       "output_type": "stream",
       "stream": "stdout",
       "text": [
        "\n",
        "(0.78184281842818426, 650)"
       ]
      },
      {
       "output_type": "stream",
       "stream": "stdout",
       "text": [
        "\n",
        "(0.79132791327913277, 675)"
       ]
      },
      {
       "output_type": "stream",
       "stream": "stdout",
       "text": [
        "\n",
        "(0.78658536585365857, 700)"
       ]
      },
      {
       "output_type": "stream",
       "stream": "stdout",
       "text": [
        "\n",
        "(0.77913279132791324, 725)"
       ]
      },
      {
       "output_type": "stream",
       "stream": "stdout",
       "text": [
        "\n",
        "(0.78319783197831983, 750)"
       ]
      },
      {
       "output_type": "stream",
       "stream": "stdout",
       "text": [
        "\n",
        "(0.77777777777777779, 775)"
       ]
      },
      {
       "output_type": "stream",
       "stream": "stdout",
       "text": [
        "\n",
        "(0.77981029810298108, 800)"
       ]
      },
      {
       "output_type": "stream",
       "stream": "stdout",
       "text": [
        "\n",
        "(0.78048780487804881, 825)"
       ]
      },
      {
       "output_type": "stream",
       "stream": "stdout",
       "text": [
        "\n",
        "(0.78184281842818426, 850)"
       ]
      },
      {
       "output_type": "stream",
       "stream": "stdout",
       "text": [
        "\n",
        "(0.78319783197831983, 875)"
       ]
      },
      {
       "output_type": "stream",
       "stream": "stdout",
       "text": [
        "\n",
        "(0.78252032520325199, 900)"
       ]
      },
      {
       "output_type": "stream",
       "stream": "stdout",
       "text": [
        "\n",
        "(0.785230352303523, 925)"
       ]
      },
      {
       "output_type": "stream",
       "stream": "stdout",
       "text": [
        "\n",
        "(0.78590785907859073, 950)"
       ]
      },
      {
       "output_type": "stream",
       "stream": "stdout",
       "text": [
        "\n",
        "(0.77913279132791324, 975)"
       ]
      },
      {
       "output_type": "stream",
       "stream": "stdout",
       "text": [
        "\n",
        "(0.77777777777777779, 1000)"
       ]
      },
      {
       "output_type": "stream",
       "stream": "stdout",
       "text": [
        "\n",
        "(0.70799457994579951, 2)"
       ]
      },
      {
       "output_type": "stream",
       "stream": "stdout",
       "text": [
        "\n",
        "(0.76355013550135498, 25)"
       ]
      },
      {
       "output_type": "stream",
       "stream": "stdout",
       "text": [
        "\n",
        "(0.77303523035230348, 50)"
       ]
      },
      {
       "output_type": "stream",
       "stream": "stdout",
       "text": [
        "\n",
        "(0.78184281842818426, 75)"
       ]
      },
      {
       "output_type": "stream",
       "stream": "stdout",
       "text": [
        "\n",
        "(0.79200542005420049, 100)"
       ]
      },
      {
       "output_type": "stream",
       "stream": "stdout",
       "text": [
        "\n",
        "(0.78252032520325199, 125)"
       ]
      },
      {
       "output_type": "stream",
       "stream": "stdout",
       "text": [
        "\n",
        "(0.78252032520325199, 150)"
       ]
      },
      {
       "output_type": "stream",
       "stream": "stdout",
       "text": [
        "\n",
        "(0.7872628726287263, 175)"
       ]
      },
      {
       "output_type": "stream",
       "stream": "stdout",
       "text": [
        "\n",
        "(0.78929539295392959, 200)"
       ]
      },
      {
       "output_type": "stream",
       "stream": "stdout",
       "text": [
        "\n",
        "(0.79268292682926833, 225)"
       ]
      },
      {
       "output_type": "stream",
       "stream": "stdout",
       "text": [
        "\n",
        "(0.79268292682926833, 250)"
       ]
      },
      {
       "output_type": "stream",
       "stream": "stdout",
       "text": [
        "\n",
        "(0.79336043360433606, 275)"
       ]
      },
      {
       "output_type": "stream",
       "stream": "stdout",
       "text": [
        "\n",
        "(0.79200542005420049, 300)"
       ]
      },
      {
       "output_type": "stream",
       "stream": "stdout",
       "text": [
        "\n",
        "(0.79065040650406504, 325)"
       ]
      },
      {
       "output_type": "stream",
       "stream": "stdout",
       "text": [
        "\n",
        "(0.79539295392953935, 350)"
       ]
      },
      {
       "output_type": "stream",
       "stream": "stdout",
       "text": [
        "\n",
        "(0.79945799457994582, 375)"
       ]
      },
      {
       "output_type": "stream",
       "stream": "stdout",
       "text": [
        "\n",
        "(0.78997289972899731, 400)"
       ]
      },
      {
       "output_type": "stream",
       "stream": "stdout",
       "text": [
        "\n",
        "(0.79471544715447151, 425)"
       ]
      },
      {
       "output_type": "stream",
       "stream": "stdout",
       "text": [
        "\n",
        "(0.78929539295392959, 450)"
       ]
      },
      {
       "output_type": "stream",
       "stream": "stdout",
       "text": [
        "\n",
        "(0.78929539295392959, 475)"
       ]
      },
      {
       "output_type": "stream",
       "stream": "stdout",
       "text": [
        "\n",
        "(0.7872628726287263, 500)"
       ]
      },
      {
       "output_type": "stream",
       "stream": "stdout",
       "text": [
        "\n",
        "(0.79336043360433606, 525)"
       ]
      },
      {
       "output_type": "stream",
       "stream": "stdout",
       "text": [
        "\n",
        "(0.79065040650406504, 550)"
       ]
      },
      {
       "output_type": "stream",
       "stream": "stdout",
       "text": [
        "\n",
        "(0.78794037940379402, 575)"
       ]
      },
      {
       "output_type": "stream",
       "stream": "stdout",
       "text": [
        "\n",
        "(0.78658536585365857, 600)"
       ]
      },
      {
       "output_type": "stream",
       "stream": "stdout",
       "text": [
        "\n",
        "(0.78387533875338755, 625)"
       ]
      },
      {
       "output_type": "stream",
       "stream": "stdout",
       "text": [
        "\n",
        "(0.78658536585365857, 650)"
       ]
      },
      {
       "output_type": "stream",
       "stream": "stdout",
       "text": [
        "\n",
        "(0.79336043360433606, 675)"
       ]
      },
      {
       "output_type": "stream",
       "stream": "stdout",
       "text": [
        "\n",
        "(0.80216802168021684, 700)"
       ]
      },
      {
       "output_type": "stream",
       "stream": "stdout",
       "text": [
        "\n",
        "(0.78861788617886175, 725)"
       ]
      },
      {
       "output_type": "stream",
       "stream": "stdout",
       "text": [
        "\n",
        "(0.78929539295392959, 750)"
       ]
      },
      {
       "output_type": "stream",
       "stream": "stdout",
       "text": [
        "\n",
        "(0.79132791327913277, 775)"
       ]
      },
      {
       "output_type": "stream",
       "stream": "stdout",
       "text": [
        "\n",
        "(0.78929539295392959, 800)"
       ]
      },
      {
       "output_type": "stream",
       "stream": "stdout",
       "text": [
        "\n",
        "(0.79336043360433606, 825)"
       ]
      },
      {
       "output_type": "stream",
       "stream": "stdout",
       "text": [
        "\n",
        "(0.79200542005420049, 850)"
       ]
      },
      {
       "output_type": "stream",
       "stream": "stdout",
       "text": [
        "\n",
        "(0.78658536585365857, 875)"
       ]
      },
      {
       "output_type": "stream",
       "stream": "stdout",
       "text": [
        "\n",
        "(0.78387533875338755, 900)"
       ]
      },
      {
       "output_type": "stream",
       "stream": "stdout",
       "text": [
        "\n",
        "(0.79132791327913277, 925)"
       ]
      },
      {
       "output_type": "stream",
       "stream": "stdout",
       "text": [
        "\n",
        "(0.78861788617886175, 950)"
       ]
      },
      {
       "output_type": "stream",
       "stream": "stdout",
       "text": [
        "\n",
        "(0.78116531165311653, 975)"
       ]
      },
      {
       "output_type": "stream",
       "stream": "stdout",
       "text": [
        "\n",
        "(0.7872628726287263, 1000)"
       ]
      },
      {
       "output_type": "stream",
       "stream": "stdout",
       "text": [
        "\n",
        "(0.7032520325203252, 2)"
       ]
      },
      {
       "output_type": "stream",
       "stream": "stdout",
       "text": [
        "\n",
        "(0.75948509485094851, 25)"
       ]
      },
      {
       "output_type": "stream",
       "stream": "stdout",
       "text": [
        "\n",
        "(0.77845528455284552, 50)"
       ]
      },
      {
       "output_type": "stream",
       "stream": "stdout",
       "text": [
        "\n",
        "(0.78048780487804881, 75)"
       ]
      },
      {
       "output_type": "stream",
       "stream": "stdout",
       "text": [
        "\n",
        "(0.785230352303523, 100)"
       ]
      },
      {
       "output_type": "stream",
       "stream": "stdout",
       "text": [
        "\n",
        "(0.77845528455284552, 125)"
       ]
      },
      {
       "output_type": "stream",
       "stream": "stdout",
       "text": [
        "\n",
        "(0.78319783197831983, 150)"
       ]
      },
      {
       "output_type": "stream",
       "stream": "stdout",
       "text": [
        "\n",
        "(0.77710027100271006, 175)"
       ]
      },
      {
       "output_type": "stream",
       "stream": "stdout",
       "text": [
        "\n",
        "(0.78184281842818426, 200)"
       ]
      },
      {
       "output_type": "stream",
       "stream": "stdout",
       "text": [
        "\n",
        "(0.77845528455284552, 225)"
       ]
      },
      {
       "output_type": "stream",
       "stream": "stdout",
       "text": [
        "\n",
        "(0.78997289972899731, 250)"
       ]
      },
      {
       "output_type": "stream",
       "stream": "stdout",
       "text": [
        "\n",
        "(0.77981029810298108, 275)"
       ]
      },
      {
       "output_type": "stream",
       "stream": "stdout",
       "text": [
        "\n",
        "(0.78319783197831983, 300)"
       ]
      },
      {
       "output_type": "stream",
       "stream": "stdout",
       "text": [
        "\n",
        "(0.78184281842818426, 325)"
       ]
      },
      {
       "output_type": "stream",
       "stream": "stdout",
       "text": [
        "\n",
        "(0.78184281842818426, 350)"
       ]
      },
      {
       "output_type": "stream",
       "stream": "stdout",
       "text": [
        "\n",
        "(0.77913279132791324, 375)"
       ]
      },
      {
       "output_type": "stream",
       "stream": "stdout",
       "text": [
        "\n",
        "(0.78319783197831983, 400)"
       ]
      },
      {
       "output_type": "stream",
       "stream": "stdout",
       "text": [
        "\n",
        "(0.78455284552845528, 425)"
       ]
      },
      {
       "output_type": "stream",
       "stream": "stdout",
       "text": [
        "\n",
        "(0.78184281842818426, 450)"
       ]
      },
      {
       "output_type": "stream",
       "stream": "stdout",
       "text": [
        "\n",
        "(0.78252032520325199, 475)"
       ]
      },
      {
       "output_type": "stream",
       "stream": "stdout",
       "text": [
        "\n",
        "(0.77303523035230348, 500)"
       ]
      },
      {
       "output_type": "stream",
       "stream": "stdout",
       "text": [
        "\n",
        "(0.77710027100271006, 525)"
       ]
      },
      {
       "output_type": "stream",
       "stream": "stdout",
       "text": [
        "\n",
        "(0.77710027100271006, 550)"
       ]
      },
      {
       "output_type": "stream",
       "stream": "stdout",
       "text": [
        "\n",
        "(0.78319783197831983, 575)"
       ]
      },
      {
       "output_type": "stream",
       "stream": "stdout",
       "text": [
        "\n",
        "(0.76964769647696474, 600)"
       ]
      },
      {
       "output_type": "stream",
       "stream": "stdout",
       "text": [
        "\n",
        "(0.7872628726287263, 625)"
       ]
      },
      {
       "output_type": "stream",
       "stream": "stdout",
       "text": [
        "\n",
        "(0.77303523035230348, 650)"
       ]
      },
      {
       "output_type": "stream",
       "stream": "stdout",
       "text": [
        "\n",
        "(0.78252032520325199, 675)"
       ]
      },
      {
       "output_type": "stream",
       "stream": "stdout",
       "text": [
        "\n",
        "(0.77371273712737132, 700)"
       ]
      },
      {
       "output_type": "stream",
       "stream": "stdout",
       "text": [
        "\n",
        "(0.77371273712737132, 725)"
       ]
      },
      {
       "output_type": "stream",
       "stream": "stdout",
       "text": [
        "\n",
        "(0.7710027100271003, 750)"
       ]
      },
      {
       "output_type": "stream",
       "stream": "stdout",
       "text": [
        "\n",
        "(0.7757452574525745, 775)"
       ]
      },
      {
       "output_type": "stream",
       "stream": "stdout",
       "text": [
        "\n",
        "(0.77845528455284552, 800)"
       ]
      },
      {
       "output_type": "stream",
       "stream": "stdout",
       "text": [
        "\n",
        "(0.78116531165311653, 825)"
       ]
      },
      {
       "output_type": "stream",
       "stream": "stdout",
       "text": [
        "\n",
        "(0.77032520325203258, 850)"
       ]
      },
      {
       "output_type": "stream",
       "stream": "stdout",
       "text": [
        "\n",
        "(0.77777777777777779, 875)"
       ]
      },
      {
       "output_type": "stream",
       "stream": "stdout",
       "text": [
        "\n",
        "(0.77710027100271006, 900)"
       ]
      },
      {
       "output_type": "stream",
       "stream": "stdout",
       "text": [
        "\n",
        "(0.7710027100271003, 925)"
       ]
      },
      {
       "output_type": "stream",
       "stream": "stdout",
       "text": [
        "\n",
        "(0.77303523035230348, 950)"
       ]
      },
      {
       "output_type": "stream",
       "stream": "stdout",
       "text": [
        "\n",
        "(0.77371273712737132, 975)"
       ]
      },
      {
       "output_type": "stream",
       "stream": "stdout",
       "text": [
        "\n",
        "(0.77303523035230348, 1000)"
       ]
      },
      {
       "output_type": "stream",
       "stream": "stdout",
       "text": [
        "\n"
       ]
      },
      {
       "metadata": {},
       "output_type": "pyout",
       "prompt_number": 99,
       "text": [
        "[2,\n",
        " 25,\n",
        " 50,\n",
        " 75,\n",
        " 100,\n",
        " 125,\n",
        " 150,\n",
        " 175,\n",
        " 200,\n",
        " 225,\n",
        " 250,\n",
        " 275,\n",
        " 300,\n",
        " 325,\n",
        " 350,\n",
        " 375,\n",
        " 400,\n",
        " 425,\n",
        " 450,\n",
        " 475,\n",
        " 500,\n",
        " 525,\n",
        " 550,\n",
        " 575,\n",
        " 600,\n",
        " 625,\n",
        " 650,\n",
        " 675,\n",
        " 700,\n",
        " 725,\n",
        " 750,\n",
        " 775,\n",
        " 800,\n",
        " 825,\n",
        " 850,\n",
        " 875,\n",
        " 900,\n",
        " 925,\n",
        " 950,\n",
        " 975,\n",
        " 1000]"
       ]
      }
     ],
     "prompt_number": 99
    },
    {
     "cell_type": "code",
     "collapsed": false,
     "input": [
      "# hyper_check2=hyper_check.copy()\n",
      "# inJSON= hyper_check\n",
      "# outputFName=train_path+\"random_forest_max_features.json\"\n",
      "# outJSON=open(outputFName, \"w\")\n",
      "# json.dump(inJSON, outJSON)\n",
      "# outJSON.close()\n",
      "\n",
      "inputFName=train_path+\"random_forest_max_features.json\"\n",
      "inFile = open(inputFName, \"r\")\n",
      "hyper_check=json.load(inFile)\n",
      "hyper_range=hyper_check['hyper_range']\n",
      "hyper_range"
     ],
     "language": "python",
     "metadata": {},
     "outputs": [
      {
       "metadata": {},
       "output_type": "pyout",
       "prompt_number": 62,
       "text": [
        "[2,\n",
        " 25,\n",
        " 50,\n",
        " 75,\n",
        " 100,\n",
        " 125,\n",
        " 150,\n",
        " 175,\n",
        " 200,\n",
        " 225,\n",
        " 250,\n",
        " 275,\n",
        " 300,\n",
        " 325,\n",
        " 350,\n",
        " 375,\n",
        " 400,\n",
        " 425,\n",
        " 450,\n",
        " 475,\n",
        " 500,\n",
        " 525,\n",
        " 550,\n",
        " 575,\n",
        " 600,\n",
        " 625,\n",
        " 650,\n",
        " 675,\n",
        " 700,\n",
        " 725,\n",
        " 750,\n",
        " 775,\n",
        " 800,\n",
        " 825,\n",
        " 850,\n",
        " 875,\n",
        " 900,\n",
        " 925,\n",
        " 950,\n",
        " 975,\n",
        " 1000]"
       ]
      }
     ],
     "prompt_number": 62
    },
    {
     "cell_type": "code",
     "collapsed": false,
     "input": [
      "n_iter, test_size=5, 0.20\n",
      "fig, ax = plt.subplots(figsize=(8,6))\n",
      "\n",
      "hyper_check_transposed=np.array([hyper_check[elt] for elt in hyper_check.keys() if not elt=='hyper_range']).T\n",
      "x=np.array(hyper_check['hyper_range'])\n",
      "y_array=hyper_check_transposed\n",
      "y=np.mean(y_array,axis=1)\n",
      "\n",
      "yerr =np.std(y_array,axis=1)\n",
      "# First illustrate basic pyplot interface, using defaults where possible.\n",
      "if len(y_array[0])==1:\n",
      "    ax.plot(x, y,'o')\n",
      "else:\n",
      "    plt.errorbar(x, y, yerr=yerr,fmt='o')\n",
      "ax.set_xticks(hyper_range[0::5])\n",
      "\n",
      "ax.set_xlim(min(hyper_range)-10,max(hyper_range)+10)\n",
      "ax.set_title(\"Random Forest %i fold cross-validation, test size: %i%%\"%(n_iter, test_size*100))\n",
      "ax.set_xlabel('maximum number of features per tree')\n",
      "ax.set_ylabel('Cross-validation accuracy')\n",
      "ax.text(700, .72, 'number of samples=%i, \\n  \\\n",
      "number of trees=%i'%(total_len, 300 ))"
     ],
     "language": "python",
     "metadata": {},
     "outputs": [
      {
       "metadata": {},
       "output_type": "pyout",
       "prompt_number": 63,
       "text": [
        "<matplotlib.text.Text at 0x11e7a210>"
       ]
      }
     ],
     "prompt_number": 63
    },
    {
     "cell_type": "heading",
     "level": 1,
     "metadata": {},
     "source": [
      "Final Forest"
     ]
    },
    {
     "cell_type": "code",
     "collapsed": false,
     "input": [
      "my_path_keys=['train','test'] # should be in this order\n",
      "my_paths=[train_path,test_path]\n",
      "\n",
      "\n",
      "results=create_Train_Test_data(my_paths,my_path_keys)\n",
      "results.keys(),results['test'].shape,results['train'].shape\n",
      "\n",
      "results['test'].shape,results['train'].shape\n",
      "df_train=results['train']\n",
      "df_test=results['test']\n",
      "\n",
      "\n",
      "df_dictionary= transform_csv(df_train, target_col='rating')\n",
      "(X_train, y_train)=transform_sklearn_dictionary(df_dictionary)\n",
      "\n",
      "df_dictionary= transform_csv(df_test, target_col='rating')\n",
      "(X_test, y_test)=transform_sklearn_dictionary(df_dictionary)\n",
      "\n",
      "\n",
      "clf_forest = RandomForestClassifier(n_estimators=200, oob_score=False)\n",
      "clf_forest.set_params(max_features=250)\n",
      "clf_forest= clf_forest.fit(X_train, y_train)\n",
      "clf_forest.score(X_test,y_test)"
     ],
     "language": "python",
     "metadata": {},
     "outputs": [
      {
       "metadata": {},
       "output_type": "pyout",
       "prompt_number": 64,
       "text": [
        "0.74961597542242708"
       ]
      }
     ],
     "prompt_number": 64
    },
    {
     "cell_type": "heading",
     "level": 2,
     "metadata": {},
     "source": [
      "Feature Weights"
     ]
    },
    {
     "cell_type": "code",
     "collapsed": false,
     "input": [
      "fig, ax = plt.subplots(figsize=(8,6))\n",
      "width = 0.4\n",
      "\n",
      "importances = clf_forest.feature_importances_\n",
      "feature_size=20\n",
      "std = np.std([tree.feature_importances_ for tree in clf_forest.estimators_],\n",
      "             axis=0)\n",
      "indices = np.argsort(importances)[-feature_size:]\n",
      "col_names=df_train.columns[indices+1]\n",
      "\n",
      "# Print the feature ranking\n",
      "print(\"Feature ranking:\")\n",
      "\n",
      "for f in range(feature_size):\n",
      "    print(\"%d. feature %d (%f)\" % (f + 1, indices[f], importances[indices[f]]))\n",
      "\n",
      "# Plot the feature importances of the forest\n",
      "ax.set_title(\"Feature importances\")\n",
      "ax.barh(range(feature_size), importances[indices],\n",
      "       color=\"r\", yerr=std[indices], align=\"center\")\n",
      "ax.set_yticks(range(feature_size))\n",
      "ax.set_ylim([-1, feature_size])\n",
      "ax.set_yticklabels(np.array(col_names))\n",
      "for tick in ax.yaxis.get_major_ticks():\n",
      "    tick.label.set_fontsize(12) \n",
      "ax.text(0.07,0,'best test score: %.2f\\n max features:%i'%(0.75,250))\n",
      "indices = np.argsort(importances)[::-1]\n",
      "feature_weights_forest={}\n",
      "feature_weights_forest['weights']=list(importances[indices])\n",
      "feature_weights_forest['features']=list(df_train.columns[indices+1])\n",
      "\n",
      "outputFName=train_path+\"feature_weights_forest.json\"\n",
      "outJSON=open(outputFName, \"w\")\n",
      "json.dump(feature_weights_forest, outJSON)\n",
      "outJSON.close()\n",
      "\n",
      "inputFName=train_path+\"feature_weights_forest.json\"\n",
      "inFile = open(inputFName, \"r\")\n",
      "feature_weights_forest=json.load(inFile)\n",
      "\n"
     ],
     "language": "python",
     "metadata": {},
     "outputs": [
      {
       "output_type": "stream",
       "stream": "stdout",
       "text": [
        "Feature ranking:\n",
        "1. feature 11 (0.012629)\n",
        "2. feature 18 (0.013339)\n",
        "3. feature 19 (0.018347)\n",
        "4. feature 14 (0.024126)\n",
        "5. feature 2 (0.027957)\n",
        "6. feature 0 (0.028532)\n",
        "7. feature 1 (0.028978)\n",
        "8. feature 3 (0.029827)\n",
        "9. feature 4 (0.030110)\n",
        "10. feature 13 (0.030943)\n",
        "11. feature 5 (0.032114)\n",
        "12. feature 6 (0.032776)\n",
        "13. feature 7 (0.032896)\n",
        "14. feature 8 (0.033750)\n",
        "15. feature 9 (0.034063)\n",
        "16. feature 3088 (0.065626)\n",
        "17. feature 3090 (0.070084)\n",
        "18. feature 3092 (0.070110)\n",
        "19. feature 3089 (0.081253)\n",
        "20. feature 3091 (0.082606)\n"
       ]
      }
     ],
     "prompt_number": 65
    },
    {
     "cell_type": "code",
     "collapsed": false,
     "input": [],
     "language": "python",
     "metadata": {},
     "outputs": [],
     "prompt_number": 83
    },
    {
     "cell_type": "code",
     "collapsed": false,
     "input": [],
     "language": "python",
     "metadata": {},
     "outputs": []
    }
   ],
   "metadata": {}
  }
 ]
}